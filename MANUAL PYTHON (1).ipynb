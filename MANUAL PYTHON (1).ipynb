{
 "cells": [
  {
   "cell_type": "markdown",
   "metadata": {},
   "source": [
    "# Introducción \n",
    "Python es un lenguaje de programación interpretado al cual se le considera de alto nivel pues su legibilidad del código es tan sencilla como si estubiesemos leyendo un texto cualquiera.\n",
    "\n",
    "Python es **multiparadigma**, es decir, permite a los programadores varios estilos de programación como lo son: la programación imperativa, programación orientada a objetos y programación funcional. \n",
    "\n",
    "Otra de las muchas cararteristicas de python es que es **multiplataforma**, ¿que quiere decir esto?, que podemos utilizar un mismo codigo en cada una de las plataformas de entre los principales sistemas operativos (Windows, Linux, Mac Os, etc.), pues podemos encontrar un intérprete de Python en dichos sistemas.\n",
    "\n",
    "Una de las multiples ventajas de python es que es **dinámicamente tipado**, con esto queremos decir que al momento de estra codificando no nececitamos especificar que tipo de variable es la que vamos a introducir, pues el tipo de las variables se decide (asigna) en tiempo de ejecución.\n",
    "\n",
    "Retomando los tipos de variables, podemos decir que python es **fuertemente tipado** pues no se puede usar una variable en un entorno fuera de su tipo, si quisieramos hacerlo, tendriamos que convertir el tipo de la variable al deseado.\n",
    "\n",
    "Por ultimo, pero no menos importante, python es un lenguaje de programacion **interpretado**, es decir, no necesitamos compilar el codigo para ejecutarlo.\n"
   ]
  },
  {
   "cell_type": "markdown",
   "metadata": {},
   "source": [
    "# Mi primer programa en Python\n",
    "\n",
    "Para mostrar lo fácil que es programar en python, el primer programa que haremos sera una multiplicación de dos números, y es tan sencillo como: "
   ]
  },
  {
   "cell_type": "code",
   "execution_count": null,
   "metadata": {},
   "outputs": [],
   "source": [
    "mul = 3 * 4\n",
    "print(mul)"
   ]
  },
  {
   "cell_type": "markdown",
   "metadata": {},
   "source": [
    "Podemos ver que *mul* es el nombre de la variable a la cual se le esta asignando el valor resultante de la multiplicacion $3\\times 4$, y con la sentencia *print(mul)* le estamos diciendo que **imprima**, nos muestre cuanto vale *mul*.\n",
    "\n",
    "Con esto tenemos nuestro primer programa en python, ¿fue fácil, no?."
   ]
  },
  {
   "cell_type": "markdown",
   "metadata": {},
   "source": [
    "# Operadores, Expresiones y Sentencias\n",
    "\n",
    "Los operadores, las expresiones y las sentencias son las formas básicas de organización que componene la estrutura de cualquier programa en python.\n",
    "\n",
    "## Operadores\n",
    "\n",
    "    Los operadores son un conjunto de caracteres que actuan sobre las variables con el fin de llevar a cabo una operación. Los operadores más comunes o los más utilizados son los operadores aritmeticos:\n",
    "  "
   ]
  },
  {
   "cell_type": "markdown",
   "metadata": {},
   "source": [
    "|Operador|Nombre|Ejemplo|\n",
    "|:----|:----|:----|\n",
    "|+|Suma|x = 1 + 4         ; x    es   5|\n",
    "|-|Resta|x = 5 - 1          ; x   es   4|\n",
    "|*|Multiplicación|x = 3 * 5         ; x   es   15|\n",
    "|/|División|x = 6 / 2         ; x   es   3|\n",
    "|**|Exponente|x = 3 ** 3      ; x   es   9|\n",
    "|//|División entera|x = 9 // 2       ; x   es   4.0|\n",
    "|%|Módulo|x = 7 % 2       ; x   es   1|\n"
   ]
  },
  {
   "cell_type": "markdown",
   "metadata": {},
   "source": [
    "## Expresiones\n",
    "    \n",
    "    Una expresión es una linea parte del codigo que al ejecutar nos devuelve un valor. Las expresiones se conforman de la combinacion de variabes, literales y operadores. "
   ]
  },
  {
   "cell_type": "code",
   "execution_count": null,
   "metadata": {},
   "outputs": [],
   "source": [
    "\"\"\"Ejemplos de Expresiones\"\"\"\n",
    "\n",
    "9 - 4             # Resta de los números 9 y 4.\n",
    "\n",
    "b == 2            # Compara si el valor de la variable b es igual a 2.\n",
    "\n",
    "2 ** (1 + 2)      # Eleva 2 a la suma de 1 con 2. "
   ]
  },
  {
   "cell_type": "markdown",
   "metadata": {},
   "source": [
    "## Sentencias\n",
    "\n",
    "    Una sentencia es una instrucción que define cierta acción. Las sentencias estan formadas por expresiones. \n",
    "    Las sentencias suelen ser de una sola linea, pero podemos encontrar sentencias de mas de una sola linea en las cuales utilizamos el caracter (\\) para dividirla."
   ]
  },
  {
   "cell_type": "code",
   "execution_count": null,
   "metadata": {},
   "outputs": [],
   "source": [
    "\"\"\"Ejemplos de Sentencias\"\"\"\n",
    "\n",
    "m = 4 / 2            # Asigna a la variable m el resultado de 4 / 2.\n",
    "\n",
    "m = 3 + 4 - 5 + \\    # Sentencia de más de una linea.\n",
    "    8 - 3 * 4 + \\\n",
    "    2 / 5\n"
   ]
  },
  {
   "cell_type": "markdown",
   "metadata": {},
   "source": [
    "# Comentarios \n",
    "\n",
    "Python al igual que los otros lenguajes de programacion, nos permite escribir comentarios dentro del código. Estos comentarios suelen ser de gran ayuda tanto para el programador como para el que este revisando el programa, pues en ellos se pueden hacer notas especificando el  por qué de la sentecia o que relaiza dicha sentecia, entre otras cosas, además nos sirven en un futuro cuando decidamos rertomar cierto programa, pues en los comentarios podriamos ver como es que funcionaba dicho programa.\n",
    "\n",
    "Para escribir un comentario en un codigo solo debes poner al incio del comentario el caracter *#*, esta forma es utilizada para comentarios de una sola linea, aún que lo puedes usar para comentarios de mas lineas.\n",
    "\n",
    "Otra forma de comentar en un código es escribir tu comentario entre tres comillas simples o dobles, estos pueden ser igual de una sola linea o más.\n",
    "\n",
    "Podemos ver unos ejemplos acontinuación."
   ]
  },
  {
   "cell_type": "code",
   "execution_count": null,
   "metadata": {},
   "outputs": [],
   "source": [
    "# Este es un comentario de una sola linea.\n",
    "\n",
    "# Este es un ejemplo de un \n",
    "# comentario de 2 lienas.\n",
    "\n",
    "'''Comentario entre comillas simples.'''\n",
    "\n",
    "\"\"\"Comentario entre comillas dobles\n",
    "   de más de una linea.\"\"\""
   ]
  },
  {
   "cell_type": "markdown",
   "metadata": {},
   "source": [
    "# Nombre en Python\n",
    "\n",
    "Cuando sea el momento de nombrar una variable, una función, una clase, etc. debemos seguir las siguientes reglas y/o recomendaciones:\n",
    "\n",
    "    Podemos usar cualquier conbinacion de letras, números y el caracter (_).\n",
    "    \n",
    "    Siempre debemos comenzar con una letra.\n",
    "    \n",
    "    No podemos utilizar las palabras reservadas.\n",
    "    \n",
    "    Se recomienda utilizar palabras que ayuden a recordar de que variable estamos hablando, es decir, es mejor poner *suma* que solo poner *s*. \n",
    "    \n",
    "    Python es capas de diferenciar entre mayusculas y minusculas, así que *Suma* es distinto de *suma*."
   ]
  },
  {
   "cell_type": "markdown",
   "metadata": {},
   "source": [
    "## Palabras reservadas\n",
    "\n",
    "En python existe una cantidad de palabaras reservadas, por lo cual no se pueden utilizar para nombrar a las variables, funciones, clases, etc., pues estas palabras ayudan a la estructura del lenguaje, por eso es que no se deben utilizar, para evitar errores."
   ]
  },
  {
   "cell_type": "markdown",
   "metadata": {},
   "source": [
    "|Palabras Claves en Python| | | |\n",
    "|:----|:----|:----|:----|\n",
    "|and|elif|global|or|\n",
    "|assert|else|if|pass|\n",
    "|break|except|import|print|\n",
    "|class|axec|in|raise|\n",
    "|continue|finally|is|return|\n",
    "|def|for|lambda|try|\n",
    "|del|from|not|while|\n",
    "\n"
   ]
  },
  {
   "cell_type": "markdown",
   "metadata": {},
   "source": [
    "# Variables\n",
    "\n",
    "Una variable es un tipo contenedor, en el cual se almacena un dato que se encuentra en la memoria del ordenador.\n",
    "\n",
    "Con las variables podemos acceder a estos datos de una forma más secilla y rapida, esto  nos permite poder manipular y transformar dicho dato, pues durante el flujo del programa este puede cambiar.\n",
    "\n",
    "Ejemplos de variables:"
   ]
  },
  {
   "cell_type": "code",
   "execution_count": null,
   "metadata": {},
   "outputs": [],
   "source": [
    "a = 6 / 2               # Se guarda(almacena) en la variable \"a\" el resultado de la operacion 6 / 2.\n",
    "a = 9 / 3               # Modificamos(transformamos) el valor de la variable a.\n",
    "\n",
    "print(a)                # Mandamos a llamar el resultado de 9 / 3 utilazando la variable a.\n"
   ]
  },
  {
   "cell_type": "markdown",
   "metadata": {},
   "source": [
    "## Asignar Valor a una Variable\n",
    "\n",
    "De los ejemplos anteriores podemos ver que para asiganar un dato a una variable utilizmos el signo igual (=).\n",
    "\n",
    "Al momento de asignar un valor o dato a una varible debemos ver que:\n",
    "\n",
    "    Primero colocamos el nombre de la variable.\n",
    "    \n",
    "    Colocamos el signo igual (=).\n",
    "    \n",
    "    La expreison, función, literal, etc. va despues del opereador de asignacion (=).\n",
    "    \n",
    "Cuando se asigna un dato a una variable por primera vez, decimos que se a inicializado la variable o en su defecto se a definido.\n",
    "\n",
    "En python se puede definir una variable en cualquier parte del codigo, pero no se puede usar una varible antes de haberla definido, pues al ejecutar el programa esto ultimo nos marcaria un error."
   ]
  },
  {
   "cell_type": "code",
   "execution_count": null,
   "metadata": {},
   "outputs": [],
   "source": [
    "b = 2 * 8        # Se asigna a la variable \"b\" el resultado de la expresion 2 * 8.\n",
    "H = 'Hola!!!'    # Se asigna a la variable \"H\" la cadena de caracteres 'Hola!!!'\n",
    "\n",
    "M = b + j        # Usamos \"j\" antes de definirla, esto es un error!!!\n"
   ]
  },
  {
   "cell_type": "markdown",
   "metadata": {},
   "source": [
    "Podemos asignar un mismo valor a distintas variables a la vez, es decir, las variables serán iguales entre sí y podemos definirlas como:"
   ]
  },
  {
   "cell_type": "code",
   "execution_count": null,
   "metadata": {},
   "outputs": [],
   "source": [
    "h = i = j = k = 3     # Se definen h,i,j,k todas con el mismo valor, 3.\n",
    "\n",
    "print(\"h =\",h)\n",
    "print(\"i =\",i)\n",
    "print(\"j =\",j)\n",
    "print(\"k =\",k)"
   ]
  },
  {
   "cell_type": "markdown",
   "metadata": {},
   "source": [
    "Usando la estructura anterior podemos definir diferentes variables con diferentes datos, así:"
   ]
  },
  {
   "cell_type": "code",
   "execution_count": null,
   "metadata": {},
   "outputs": [],
   "source": [
    "h, i, j, k = 'Hola', 3, 6, 7\n",
    "\n",
    "print(\"h =\",h)\n",
    "print(\"i =\",i)\n",
    "print(\"j =\",j)\n",
    "print(\"k =\",k)"
   ]
  },
  {
   "cell_type": "markdown",
   "metadata": {},
   "source": [
    "# Tipos de datos                                           \n",
    "\n",
    "Un tipo de dato no es más que una propiedad de los datos que nos indica la clase de datos con los que estamos trabajando. De acuerdo al tipo de dato existen ciertas restricciones, como que operaciones se pueden efectuar con esos datos, que valores se les pueden asignar, etc.\n",
    "\n",
    "Existen distintos tipos de datos en python, los básicos son:\n",
    "\n",
    "## Enteros\n",
    "El tipo de los números enteros es *int*, este como su nombre lo dice, corresponde al conjunto de los números enteros (...,-2,-1,0,1,2,...).\n",
    "\n",
    "## Flotantes \n",
    "El tipo de los números flotantes es *float*, este tipo corresponde al conjuntos de los números reales, los números con decimales.\n",
    "\n",
    "## Complejos \n",
    "El tipo de los números complejos es *complex*, este como su nombre lo indica, corresponde al conjunto de los números complejos (1+2j,2-3j,etc).\n",
    "\n",
    "En los tres tipos de datos numericos anteriores se pueden efectuar las operaciones suma, resta, multiplicación, división, etc.,además se puede realizar operaciones con números de distinto tipo.\n",
    "Cuando se hace lo anterior, el tipo numerico mas pequeño se convierte al tipo numerico del más grande, por lo cual nuestro resultado sera dle tipo del mayor.\n",
    "Se tiene que: \n",
    "$$Tipo\\ int\\ < \\ Tipo \\ float \\ < \\ Tipo \\ Complex$$\n",
    "\n",
    "## Booleanos\n",
    "El tipo de los valores/objetos booleanos es *bool*, esta clase se toma solo 2 valores, *True* si es verdadero, *False* si es falso.\n",
    "\n",
    "## Cadenas\n",
    "El tipo de las cadenas es *str*, mejor conocidas como *String*. Un string es una secuencia inmutable de caracteres. Para crear un sting se deben usar comillas dobles (\"\") o comillas simples ('').\n",
    "\n",
    "Los siguientes tipos de datos son tipos compuestos de los tipos anteriores, sulen ser utilizados para grupar varios valores.\n",
    "\n",
    "## Listas\n",
    "El tipo de las listas es *list*, una lista es una estructura de dato en el cual se puede almacenar cualquier tipo de dato, enteros, flotantes, cadenas, etc. En una lista los elementos estan entre corchetes y separados por comas.\n",
    "\n",
    "## Tuplas \n",
    "El tipo de las tuplas es *tuple*, una tupla es un conjunto ordenado e inmutable de elementos, es decir, no se pueden modificar despues de haberla definido y pueden ser de distinto tipo. En una tupla los elementos estan entre parentesis y separados por comas.\n",
    "\n",
    "## Conjuntos \n",
    "El tipo de los conjuntos es *set*, un conjunto es una colección de datos no repetidos, los cuales son mutables. En un conjunto los elementos se escriben entre comillas simples y estan entre llaves separados por comas.\n",
    "\n",
    "## Diccionarios \n",
    "El tipo de los diccionarios es *dict*, un diccionario es una estructura de dato en el cual se puede almacenar cualquier tipo de dato, enteros, flotantes, cadenas, etc., en los diccionarios se puede identificar a cada elemento por una clave. Para definir un diccionario, se encierra el listado de valores entre llaves. Las parejas de clave y valor se separan con comas, y la clave y el valor se separan con dos puntos."
   ]
  },
  {
   "cell_type": "code",
   "execution_count": null,
   "metadata": {},
   "outputs": [],
   "source": [
    "\"Ejemplos de los tipos de datos\"\n",
    "\n",
    "a_int = 5 \n",
    "\n",
    "a_float = 3.4\n",
    "\n",
    "a_complex = 2 + 3j\n",
    "\n",
    "a_string = \"Hola\"\n",
    "\n",
    "a_lista = [3, 'num', 13.6, 9, 15-4j, 7]\n",
    "\n",
    "a_tupla = (5, 'tup', 6.7, 9+5j)\n",
    "\n",
    "a_conjunto = {'1', '4.6', 'conj', '6-j'}\n",
    "\n",
    "a_diccionario = {'a': 1, 'b': 'dic', 'c': 5.67, 'd': -5 + 7j}"
   ]
  },
  {
   "cell_type": "code",
   "execution_count": null,
   "metadata": {},
   "outputs": [],
   "source": [
    "a_diccionario = {'a': 1, 'b': 'dic', 'c': 5.67, 'd': -5 + 7j}\n",
    "a_diccionario"
   ]
  },
  {
   "cell_type": "markdown",
   "metadata": {},
   "source": [
    "# Estructuras de control\n",
    "\n",
    "## if\n",
    "\n",
    "La sentencia *if* es utilizada para ejecutar cierto bloque de codigo el cual se ejecutará si y solo si se cumple la condición puesta.\n"
   ]
  },
  {
   "cell_type": "code",
   "execution_count": null,
   "metadata": {},
   "outputs": [],
   "source": [
    "\"Estrurtura con sentencia if\"\n",
    "\n",
    "if (condición):\n",
    "    bloque de codigo"
   ]
  },
  {
   "cell_type": "markdown",
   "metadata": {},
   "source": [
    "Condición puede ser el valor de una variable, el resultado de una expresion, una literal, etc.\n",
    "\n",
    "Si condición se evalua como verdadera(True) se ejecutara el bloque de codigo correspondiente, si condición se evalua como Falsa(False) no se ejecutara ni una sentencia perteneciente al bloque de código correspondiente.\n",
    "\n",
    "Vease un ejemplo muy sencillo."
   ]
  },
  {
   "cell_type": "code",
   "execution_count": null,
   "metadata": {},
   "outputs": [],
   "source": [
    "a = 2**2\n",
    "\n",
    "if a > 3:\n",
    "    print('a es mayor que 3')"
   ]
  },
  {
   "cell_type": "markdown",
   "metadata": {},
   "source": [
    "## if ... else...\n",
    "\n",
    "Cuando nuestra condición se evalua como falsa y se requiere ejecutar otro bloque de código utilizamos la estructura if... else..."
   ]
  },
  {
   "cell_type": "code",
   "execution_count": null,
   "metadata": {},
   "outputs": [],
   "source": [
    "\"Estructura con sentencia if... else...\"\n",
    "\n",
    "if (condición):\n",
    "    bloque de codigo_1\n",
    "else:\n",
    "    bloque de codigo_2"
   ]
  },
  {
   "cell_type": "markdown",
   "metadata": {},
   "source": [
    "El código anterior se podria interpretar de la forma en que si la cidicion se evalua como verdadera (True)\n",
    " se ejecuta el bloque de código_1, y en otro caso, es decir, si la condicion se evalua como falsa (False) se ejecutara el bloque de codigo_2."
   ]
  },
  {
   "cell_type": "markdown",
   "metadata": {},
   "source": [
    "Vease un ejemplo."
   ]
  },
  {
   "cell_type": "code",
   "execution_count": null,
   "metadata": {},
   "outputs": [],
   "source": [
    "Zap='rojo'\n",
    "\n",
    "if Zap == 'azul':\n",
    "    print(\"El zapato es azul\")\n",
    "else:\n",
    "    print(\"El zapato es rojo\")"
   ]
  },
  {
   "cell_type": "markdown",
   "metadata": {},
   "source": [
    "## if...elif...else\n",
    "\n",
    "Podemos encontrarnos en situaciones donde tengamos multiples condiciones en estos casos utilzamos la estructura if...elif...else."
   ]
  },
  {
   "cell_type": "code",
   "execution_count": null,
   "metadata": {},
   "outputs": [],
   "source": [
    "\"Estructura con sentecia if...elif...else\"\n",
    "\n",
    "if (condición):\n",
    "    bloque de codigo_1\n",
    "\n",
    "elif (condición):\n",
    "    bloque de codigo_2\n",
    "else:\n",
    "    bloque de codigo_3"
   ]
  },
  {
   "cell_type": "markdown",
   "metadata": {},
   "source": [
    "Veamos un ejemplo."
   ]
  },
  {
   "cell_type": "code",
   "execution_count": null,
   "metadata": {},
   "outputs": [],
   "source": [
    "Zap='Rojo'\n",
    "\n",
    "if Zap=='Azul':\n",
    "    print(\"El zapato es azul\")\n",
    "\n",
    "elif Zap=='Rojo':\n",
    "    print(\"El zapato es rojo\")\n",
    "else:\n",
    "    print(\"EL zapato es verde\")"
   ]
  },
  {
   "cell_type": "markdown",
   "metadata": {},
   "source": [
    "## if anidados\n",
    "\n",
    "En los bloques de codigo corresponiente a cada sentencia if, elif y else, podemos volver a incluir una o mas sentencias if, elif, else. \n",
    "\n",
    "Veamos un ejemplo en el que dada una lista de nuemeros al azar, se le pide al usuario introducir un numero entero positivo entre 1 y 30. El programa le dira si el numero ingresado esta en la lista o no, en caso de que pertenesca a la lista le dira tambien entre que numeros se encuentra (intervalo). "
   ]
  },
  {
   "cell_type": "code",
   "execution_count": null,
   "metadata": {},
   "outputs": [],
   "source": [
    "num = int(input(\"Ingresa el numero a verificar: \"))\n",
    "lis_num = [1,3,5,7,4,12,17,20,27,23,25,28,30]\n",
    "\n",
    "if num in lis_num:\n",
    "    print(\"Número encontrado dentro de la lista\")\n",
    "    if num >= 0 and num < 10:\n",
    "        print(\"El numero ingresado esta en el intervalo [0,10)\")\n",
    "    elif num >= 10 and num < 20:\n",
    "        print(\"El numero ingresado esta en el intervalo [10,20)\")\n",
    "    else:\n",
    "        print(\"El numero ingresado esta en el intervalo [20,30]\")\n",
    "else:\n",
    "    print(\"Tu numero no esta en la lista, ingresa un numero nuevo.\")"
   ]
  },
  {
   "cell_type": "markdown",
   "metadata": {},
   "source": [
    "# Ciclos\n",
    "\n",
    "## While (mientras)\n",
    "Este bucle o ciclo al igual que la sentencia *if* vista anteriormente es una sentencia de control de flujo, se utiliza para ejecutar un bloque de código de manera repetitiva mientras se cumpla cierta condición."
   ]
  },
  {
   "cell_type": "code",
   "execution_count": null,
   "metadata": {},
   "outputs": [],
   "source": [
    "\"Estructura con sentecia While\"\n",
    "\n",
    "while (condición):                    # Mientras condición se evalúe como verdadera (True),                              \n",
    "    bloque de código                  # se ejecutaran las sentencias del bloque de codigo "
   ]
  },
  {
   "cell_type": "markdown",
   "metadata": {},
   "source": [
    "Condición puede ser el valor de una variable, el resultado de una expresion, una literal, etc.\n",
    "\n",
    "Vease un ejemplo muy sencillo."
   ]
  },
  {
   "cell_type": "code",
   "execution_count": null,
   "metadata": {},
   "outputs": [],
   "source": [
    "num = float(input(\"Ingrese el primer numero a sumar: \"))\n",
    "suma = 0\n",
    "while num != 0:\n",
    "    suma += num\n",
    "    num = float(input(\"Ingrese el siguiente numero a sumar: \"))\n",
    "print(\"La suma total es: \", suma)"
   ]
  },
  {
   "cell_type": "markdown",
   "metadata": {},
   "source": [
    "El programa anterior pide al usuario ingrese números los cuales los va a ir sumando en la variable *suma* que se inicializa en 0, el programa se detendra hasta que se ingrese el numero 0 y despues de eso nos devolvera la suma total."
   ]
  },
  {
   "cell_type": "markdown",
   "metadata": {},
   "source": [
    "### break\n",
    "\n",
    "Dentro de un ciclo while podemos modificar el flujo de ejecuciones con la sentencia **break**, la utilizamos para salir del ciclo o finalizar en caso de que se cumpla alguna condición.\n",
    "\n",
    "Veamos un ejemplo con *break* utilizado el ejemplo anterior."
   ]
  },
  {
   "cell_type": "code",
   "execution_count": null,
   "metadata": {},
   "outputs": [],
   "source": [
    "num = float(input(\"Ingrese el primer numero a sumar: \"))\n",
    "suma = 0\n",
    "while num != 0:\n",
    "    suma += num\n",
    "    if suma >= 20:\n",
    "        break\n",
    "    num = float(input(\"Ingrese el siguiente numero a sumar: \"))\n",
    "print(\"La suma total es: \", suma)"
   ]
  },
  {
   "cell_type": "markdown",
   "metadata": {},
   "source": [
    "El programa anterior hace exactamente lo mismo que antes, solo que ahora le pusimos una concidicon, que cuando la suma sea mayor o igual a 20 se finalize el ciclo, entonces con el break se rompe el ciclo y el flujo de ejcucución continua con lo que sigue despues del bloque de codigo perteneciente al ciclo, que en este caso seria mandar a imprimir la suma total."
   ]
  },
  {
   "cell_type": "markdown",
   "metadata": {},
   "source": [
    "## For\n",
    "Al igual que el ciclo *while*, el ciclo *for* ejecuta repetitiva mente cierto bloque de codigo, salvo la difernecia que el ciclo while no sabiamos cuantas veces se iba a ejecutar y con el ciclo for si.\n",
    "\n",
    "El ciclo for es utilizado para recorrer los ementos de un iterable como lo son las listas, tuplas, conjuntos, diccionarios, etc."
   ]
  },
  {
   "cell_type": "code",
   "execution_count": null,
   "metadata": {},
   "outputs": [],
   "source": [
    "\"Estructura con sentencia for\"\n",
    "\n",
    "for elemento in iterable:          # elemento es la variable que toma el valor del elemento dentro del iterable en cada\n",
    "    bloque de codigo               # repetición del ciclo. Este termina una ves se hallan recorridos todos los elementos"
   ]
  },
  {
   "cell_type": "markdown",
   "metadata": {},
   "source": [
    "Como lo vemos en la estructura anterior, en capa repetición o en cada iteración se toma solo un elemento del iterable y a este se le pueden aplicar multiples operaciones.\n",
    "\n",
    "Veamos un ejemplo muy sencillo de como funciona el ciclo for."
   ]
  },
  {
   "cell_type": "code",
   "execution_count": null,
   "metadata": {},
   "outputs": [],
   "source": [
    "lista = [1,3,5,7,9]\n",
    "for i in lista:\n",
    "    i += 1\n",
    "    print(i)"
   ]
  },
  {
   "cell_type": "markdown",
   "metadata": {},
   "source": [
    "El programa anterior le esta sumando 1 a cada elemento de la lista (iterable) y lo manda a imprimir.\n",
    "EL *for i in lista* lo podriamos leer como \"para cada i (elemento) en la lista\", es decir a cada elemento se le estan aplicando las sentencias pertenecientes al bloque de codigo.\n",
    "\n",
    "### Iterable\n",
    "\n",
    "En python un iterable es un objeto que se puede iterar sobre él, esto es, que podemos recorrer todos sus elementos de uno en uno. Los principales o los mas utilizados en el ciclo **for** son: listas (list), tuplas (tuple), diccionarios (dict), cadenas (string), conjuntos (set)."
   ]
  },
  {
   "cell_type": "markdown",
   "metadata": {},
   "source": [
    "### Range\n",
    "\n",
    "La clase *range* la utilizamos en python para llevar a cabo el ciclo **for** basandonos en una secuencia numerica.\n",
    "\n",
    "Tenemos 3 formas de utilizar el tipo de datos *range*.\n",
    "\n",
    "    1 Parametro. Utilizamos la sentencia range(n), esto nos da un iterable(véase la definición) de numeros enteros que      comienza en 0 y termina hasta n-1.  \n",
    "    \n",
    "    2 Parametros. Utilizamos la sentecia range(m,n), esto nos da un iterable de numeros enteros que comeinza en m y termina en n-1.\n",
    "    \n",
    "    3 Parametros. Utilizamos la sentecia range(m,n,s), esto no da un iterable de numeros enteros que comeinza en m, termina en n-1 pero va incrementando de s en s.\n",
    "    \n",
    "Veamos unos ejemplos."
   ]
  },
  {
   "cell_type": "code",
   "execution_count": null,
   "metadata": {},
   "outputs": [],
   "source": [
    "\"range con un parametro\"\n",
    "for i in range(3):   \n",
    "    print(i)"
   ]
  },
  {
   "cell_type": "markdown",
   "metadata": {},
   "source": [
    "Nótese que no llegamos a tomar el valor 3."
   ]
  },
  {
   "cell_type": "code",
   "execution_count": null,
   "metadata": {},
   "outputs": [],
   "source": [
    "\"range con 2 parametros\"\n",
    "for j in range(1,4):\n",
    "    print(j)"
   ]
  },
  {
   "cell_type": "code",
   "execution_count": null,
   "metadata": {},
   "outputs": [],
   "source": [
    "\"range con 3 parametros\"\n",
    "for k in range(2,7,2):\n",
    "    print(k)"
   ]
  },
  {
   "cell_type": "markdown",
   "metadata": {},
   "source": [
    "### break\n",
    "\n",
    "AL igual que en el ciclo while podemos utilizar la sentecia *break* para romper el ciclo una ves que se halla cumplido cierta condicion.\n",
    "\n",
    "Veamos un ejemplo."
   ]
  },
  {
   "cell_type": "code",
   "execution_count": null,
   "metadata": {},
   "outputs": [],
   "source": [
    "lista = [1,3,5,7,9]\n",
    "for n in lista:\n",
    "    if n == 5:\n",
    "        break\n",
    "    print(n)"
   ]
  },
  {
   "cell_type": "markdown",
   "metadata": {},
   "source": [
    "El programa anterior va recorriendo toda la lista elemento por elemento y cuando se cumple que n sea 5 se rompe el ciclo, por eso solo se muestran en pantalla el 1 y el 3."
   ]
  },
  {
   "cell_type": "markdown",
   "metadata": {},
   "source": [
    "# Diccionarios\n",
    "\n",
    "Como lo vimos anteriormente los diccionarios son de tipo dict, la cual asocia claves a ciertos valores y pueden almacenar cualquier tipo de dato, enteros, flotantes, cadenas, etc., en los diccionarios se puede identificar a cada elemento por una clave,además los diccionarios estan indexados por claves, es decir, que podemos acceder a sus elementos apartir de cada clave.\n",
    "\n",
    "Los diccionarios son de un tipo **mutable**, es decir, que podemos modificar el contenido después de haberlo creado y también son de un tipo **ordenado**, esto es, que guardan el orden en que se definen los elementos.\n",
    "\n",
    "## Mi primer diccionario\n",
    "\n",
    "Existen varias formas de crear un diccionario en python, la más usual por ser la mas sencilla y facil de comprender es la siguiente:\n",
    "\n",
    "    Para definir un diccionario, se encierra el listado de parejas (clave:valor) entre llaves. Las parejas de clave y valor se separan con comas, y la clave y el valor se separan con dos puntos.\n",
    "\n",
    "Veamos un ejemplo.\n"
   ]
  },
  {
   "cell_type": "code",
   "execution_count": null,
   "metadata": {},
   "outputs": [],
   "source": [
    "dicc = {'a' : 1, 'b' : 2, 3 : 'c', 'd' : 4.8, 'e' : 5 + 8j}\n",
    "print(dicc)"
   ]
  },
  {
   "cell_type": "markdown",
   "metadata": {},
   "source": [
    "Del ejemplo anterior podemos ver que 'a', 'b', 3, 'd' y 'e' son las claves, 1, 2, 'c', 4.8 y 5+8j son los valores correspondientes respectivamente a cada clave.\n",
    "\n",
    "Notese que se pueden usar y mezclar distinitos tipos de datos para definir las claves y los valores.\n",
    "\n",
    "Si queremos construir un diccionario sin elemetos(vacío) solo asignamos el valor *{ }* a cual sea nuestra variable."
   ]
  },
  {
   "cell_type": "code",
   "execution_count": null,
   "metadata": {},
   "outputs": [],
   "source": [
    "dicc = {}\n",
    "print(dicc)\n",
    "print(type(dicc))"
   ]
  },
  {
   "cell_type": "markdown",
   "metadata": {},
   "source": [
    "## Constructor dict( )\n",
    "\n",
    "Con el constructor *dict( )* podemos definir un diccionarios de distintas formas:\n",
    "\n",
    "    Con parejas(clave:valor) encerradas entre llaves y separadas por comas.\n",
    "\n",
    "    Con un iterable, para esto cada elemento del iterable también debe ser un iterable de solo 2 elementos, de los cuales el primer elemento será tomado como la clave y el segundo como el valor.\n",
    "\n",
    "    Argumento con nombre(a=1), en este caso el argumento sera tomado como la clave y el nombre será el valor, los argumentos(claves) o pueden ser números de ningun tipo, solo cadenas.\n",
    "\n",
    "    Vacío, para esto basta dejar sin parametros al constructor.\n",
    "    \n",
    "Vease ejemplos"
   ]
  },
  {
   "cell_type": "code",
   "execution_count": null,
   "metadata": {},
   "outputs": [],
   "source": [
    "# Diccionario parejas(clave:valor) sin constructor\n",
    "dicc_1 = {'a': 10, 'b': 9, 'c': 8, 'd': 7, 'e': 6, 'f': 5}\n",
    "print(dicc_1)\n",
    "\n",
    "# Diccionario parejas(clave:valor) con constructor\n",
    "dicc_2 = dict({'a': 10, 'b': 9, 'c': 8, 'd': 7, 'e': 6, 'f': 5})\n",
    "print(dicc_2)\n",
    "\n",
    "# Diccionario con iterables\n",
    "dicc_3 = dict([('a',10),('b',9),('c',8),('d',7),('e',6),('f',5)])\n",
    "print(dicc_3)\n",
    "\n",
    "# Diccionario de argumentos con nombre\n",
    "dicc_4 = dict(a = 10, b = 9, c = 8, d = 7, e = 6, f = 5)\n",
    "print(dicc_4)\n",
    "\n",
    "# Diccionario Vacio\n",
    "dicc_5 = dict()\n",
    "print(dicc_5)"
   ]
  },
  {
   "cell_type": "markdown",
   "metadata": {},
   "source": [
    "## Acceso a los elementos de un diccionario\n",
    "\n",
    "Para acceder a los elementos de un diccionario lo haremos atraves de la indexacion de la clave.\n",
    "\n",
    "Veamos un ejemplo"
   ]
  },
  {
   "cell_type": "code",
   "execution_count": null,
   "metadata": {},
   "outputs": [],
   "source": [
    "dicc = {'a': 10, 'b': 9, 'c': 8, 'd': 7, 'e': 6, 'f': 5}\n",
    "dicc['c']"
   ]
  },
  {
   "cell_type": "markdown",
   "metadata": {},
   "source": [
    "Vemos que solo tenemos que poner entre corchetes la clave de la cual queremos saber el valor, *dicc[clave]*. Si la clave no existe saldra un error.\n",
    "\n",
    "Veamos el siguiente ejemplo"
   ]
  },
  {
   "cell_type": "code",
   "execution_count": null,
   "metadata": {},
   "outputs": [],
   "source": [
    "dicc = {'a': 10, 'b': 9, 'c': 8, 'd': 7, 'e': 6, 'f': 5}\n",
    "dicc['g']"
   ]
  },
  {
   "cell_type": "markdown",
   "metadata": {},
   "source": [
    "Otra forma de acceder a los elementos es con el método **get**, este método nos devuelve tambien el valor de la clave. "
   ]
  },
  {
   "cell_type": "code",
   "execution_count": null,
   "metadata": {},
   "outputs": [],
   "source": [
    "dicc = {'a': 10, 'b': 9, 'c': 8, 'd': 7, 'e': 6, 'f': 5}\n",
    "dicc.get('b')"
   ]
  },
  {
   "cell_type": "markdown",
   "metadata": {},
   "source": [
    "## Ciclo for para recorrer un diccionario\n",
    "\n",
    "Tenemos 3 formas para recorrer los elementos de un diccionario, ya sea que queramos solo las claves, los valores, o las parejas clave:valor.\n",
    "\n",
    "Veamos ejemplos."
   ]
  },
  {
   "cell_type": "code",
   "execution_count": null,
   "metadata": {},
   "outputs": [],
   "source": [
    "dicc = {'a': 10, 'b': 9, 'c': 8, 'd': 7, 'e': 6, 'f': 5}\n",
    "\n",
    "for i in dicc:\n",
    "    print(i)"
   ]
  },
  {
   "cell_type": "code",
   "execution_count": null,
   "metadata": {},
   "outputs": [],
   "source": [
    "dicc = {'a': 10, 'b': 9, 'c': 8, 'd': 7, 'e': 6, 'f': 5}\n",
    "\n",
    "for i in dicc.keys():\n",
    "    print(i)"
   ]
  },
  {
   "cell_type": "code",
   "execution_count": null,
   "metadata": {},
   "outputs": [],
   "source": [
    "dicc = {'a': 10, 'b': 9, 'c': 8, 'd': 7, 'e': 6, 'f': 5}\n",
    "\n",
    "for i in dicc.values():\n",
    "    print(i)"
   ]
  },
  {
   "cell_type": "code",
   "execution_count": null,
   "metadata": {},
   "outputs": [],
   "source": [
    "dicc = {'a': 10, 'b': 9, 'c': 8, 'd': 7, 'e': 6, 'f': 5}\n",
    "\n",
    "for i in dicc.items():\n",
    "    print(i)"
   ]
  },
  {
   "cell_type": "markdown",
   "metadata": {},
   "source": [
    "## Agregar y modificar elementos a un diccionario\n",
    "\n",
    "Como lo mencionamos antes, los diccionarios son mutables, es decir, podemos agregar, eliminar y hasta mosdificas elementos.\n",
    "\n",
    "    Añadir elementos. Para añadir elementos usamos la sentencia \"dicc[clave]= valor\".\n",
    "    También podemos utilizar el método \"setdefault(clave,valor)\", si usamos este ultimo metodo y no especificamos el valor, por defecto será \"None\"\n",
    "    \n",
    "    Modificar elementos. Para modificar elementos utilazaremos la misma sentecia que para añadir, \"dicc[clave]=valor nuevo\". \n",
    "    \n",
    " Veamos un ejemplo.   "
   ]
  },
  {
   "cell_type": "code",
   "execution_count": null,
   "metadata": {},
   "outputs": [],
   "source": [
    "dicc = {'a': 10, 'b': 9, 'c': 8, 'd': 7, 'e': 6, 'f': 5}\n",
    "print(dicc,'\\n')\n",
    "\n",
    "# Agregar elemento con sentencia dicc[clave]=valor\n",
    "dicc['g'] = 4\n",
    "print('Agregamos g = 4 con \"dicc[clave] = valor\" \\n', dicc,'\\n')\n",
    "\n",
    "# Agregar elemento con método setdefault\n",
    "dicc.setdefault('h',3)\n",
    "print('Agregamos h = 3 con método \"setdefault\" \\n', dicc,'\\n')\n",
    "\n",
    "# Modificar elemntos\n",
    "dicc['f'] = 0\n",
    "print('Modificamos f = 5 por f = 0 con \"dicc[clave] = valor\" \\n', dicc)"
   ]
  },
  {
   "cell_type": "markdown",
   "metadata": {},
   "source": [
    "## Eliminar elementos de un diccionario\n",
    "\n",
    "Para eliminar elementos de un diccionario tenemos varios métodos:\n",
    "\n",
    "    pop(clave). Con este método eliminamos el elemento que le corresponde dicha clave. Este método elimina el elemento y devulve su valor. Si la clave no esta en el diccionario manda un error. \n",
    "    \n",
    "    popitem(). Este método devuleve el valor y elimina por default el ultimo elemento del diccionario. Si el diccionario esta vacío manda un error.\n",
    "    \n",
    "    del dicc[clave]. Con este método eliminamos la pareja(clave:valor) correspondiente a dicha clave. Si la clave no existe en el diccionario manda un error.\n",
    "    \n",
    "    clear(). Elimina todos los elementos del diccionario.\n",
    "    \n",
    "Veamos un ejemplo."
   ]
  },
  {
   "cell_type": "code",
   "execution_count": null,
   "metadata": {},
   "outputs": [],
   "source": [
    "dicc = {'a': 10, 'b': 9, 'c': 8, 'd': 7, 'e': 6, 'f': 5}\n",
    "print(dicc,'\\n')\n",
    "\n",
    "# Eliminamos elemento con pop(clave)\n",
    "dicc.pop('c')\n",
    "print('Eliminamos c = 8 con el metodo \"pop(clave)\" \\n', dicc,'\\n')\n",
    "\n",
    "# Eliminamos elemento con popitem\n",
    "dicc.popitem()\n",
    "print('Eliminamos el ultimo elemento con el método \"popitem()\" \\n', dicc,'\\n')\n",
    "\n",
    "# Eliminamos elemento con del\n",
    "del dicc['a']\n",
    "print('Eliminamos a = 10 con el método \"del dicc[clave]\" \\n', dicc,'\\n')\n",
    "\n",
    "# Eliminamos los elementos con clear\n",
    "dicc.clear()\n",
    "print('Eliminamos todos los elementos con el método \"clear()\" \\n', dicc)"
   ]
  },
  {
   "cell_type": "markdown",
   "metadata": {},
   "source": [
    "## Número de elementos en un diccionario\n",
    "\n",
    "Si tenemos un diccionario muy grande en el cual no es tan facil notar cuantos son sus elementos, podemos utlizar la función **len( )** para saber cuantos elementos tiene.\n",
    "Nota. También la podemos usar para diccionarios pequeños."
   ]
  },
  {
   "cell_type": "code",
   "execution_count": null,
   "metadata": {},
   "outputs": [],
   "source": [
    "dicc = {'a': 10, 'b': 9, 'c': 8, 'd': 7, 'e': 6, 'f': 5}\n",
    "len(dicc)"
   ]
  },
  {
   "cell_type": "markdown",
   "metadata": {},
   "source": [
    "## Dos diccionarios iguales\n",
    "\n",
    "Si tenemos diccionarios en los cuales no podemos ver sus elementos con claridad y queremos saber si son o no iguales podemos utilizar el operador de igualdad **==**. Decimos que dos diccionarios son iguales si tinen las mimas parejas(clave:valor) sin importar el orden en que esten.\n",
    "Esta es la unica comparacion que podemos hacer con diccionarios.\n"
   ]
  },
  {
   "cell_type": "code",
   "execution_count": null,
   "metadata": {},
   "outputs": [],
   "source": [
    "dicc_1 = {'a': 10, 'b': 9, 'c': 8, 'd': 7, 'e': 6, 'f': 5}\n",
    "\n",
    "dicc_2 = {'a': 10, 'b': 9, 'c': 8, 'f': 5, 'd': 7, 'e': 6}\n",
    "\n",
    "dicc_3 = {'a': 10, 'b': 9, 'c': 8}\n",
    "          \n",
    "print(dicc_1 == dicc_2,'\\n')\n",
    "\n",
    "print(dicc_2 == dicc_3)          "
   ]
  },
  {
   "cell_type": "markdown",
   "metadata": {},
   "source": [
    "## Diccionarios anidados\n",
    "\n",
    "Como se mencionó anteriormente los diccionarios pueden contner valores de cualquier tipo, incluso otro diccionario. A esto se le llamamos diccionarios anidados.\n",
    "\n",
    "Para a uno de sus elementos utilizamos el operador de indexación anidada \"*dicc[clave_1][clave_2]*\".\n",
    "\n",
    "Veamos un ejemplo"
   ]
  },
  {
   "cell_type": "code",
   "execution_count": null,
   "metadata": {},
   "outputs": [],
   "source": [
    "dicc = {\n",
    "    'A': {'M': 52, 'S': 95, 'N': 180},\n",
    "    'B': {'Z': 49, 'V': 61, 'J': 62, 'X': 114},\n",
    "    'C': {'M': 22, 'D': 43, 'S': 169},\n",
    "    'D': {'C': 43},\n",
    "    'E': {'O': 138, 'F': 208}\n",
    "    }\n",
    "\n",
    "dicc['C']['M']"
   ]
  },
  {
   "cell_type": "markdown",
   "metadata": {},
   "source": [
    "## Lista con las claves de un diccionario\n",
    "\n",
    "Dado un diccionario, podemos obtener una lista donde los elementos de dicha lista sean las claves del diccionario. Esto lo hacemos con la sentencia **list(dicc)**.\n",
    "\n",
    "Veamos un ejemplo"
   ]
  },
  {
   "cell_type": "code",
   "execution_count": null,
   "metadata": {},
   "outputs": [],
   "source": [
    "dicc = {'a': 10, 'b': 9, 'c': 8, 'd': 7, 'e': 6, 'f': 5}\n",
    "lis_claves = list(dicc)\n",
    "print(lis_claves)"
   ]
  },
  {
   "cell_type": "markdown",
   "metadata": {},
   "source": [
    "# PANDAS - DataFrame\n",
    "\n",
    "Dentro de la libreria PANDAS tenemos objetos con tipo de dato DataFrame, estos objetos son tablas de datos de dos dimensiones, es decir, estan constituidos de filas y columnas.\n",
    "Un ejemplo sencillo de un DataFrame podria ser un horario de clases, un regimen alimenticio(dieta), donde en este ultimo las columnas podrian ser los dias de la semana, las filas pudieran ser horas de la comida(desayuno, comida, cena) y los elementos serian los alimentos impuestos por dia y hora. Veamos como pudiera ser:\n",
    "\n",
    "| |Lunes|Martes|Miercoles|\n",
    "|:----|:----|:----|:----|\n",
    "|Deayuno|Quesadilla|Huevos|Licuado|\n",
    "| | | | |\n",
    "|Comida|Pollo|Sopa|Carne|\n",
    "| | | | |\n",
    "|Cena|Licuado|Cereal|Tostadas|\n",
    "\n",
    "Veamos como crear un DataFrame con PANDAS.\n",
    "\n",
    "## DataFrame vacío\n",
    "\n",
    "Para crear un DataFrame, al igual que con los diccionarios, utilizamos el constructor DataFrame pero no le podemos prametro alguno.\n",
    "\n",
    "Para hacer DataFrame es necesario tener instalada PANDAS.\n",
    "\n",
    "Vemos el ejempplo.\n"
   ]
  },
  {
   "cell_type": "code",
   "execution_count": 2,
   "metadata": {},
   "outputs": [
    {
     "name": "stdout",
     "output_type": "stream",
     "text": [
      "Empty DataFrame\n",
      "Columns: []\n",
      "Index: []\n"
     ]
    }
   ],
   "source": [
    "import pandas as pd\n",
    "DF=pd.DataFrame()\n",
    "print(DF)"
   ]
  },
  {
   "cell_type": "markdown",
   "metadata": {},
   "source": [
    "Podemos ver que ya tenemos un DataFrame vacio.\n",
    "\n",
    "Es más que obvio que un DataFrame vacio no sirve de mucho, así que procederemos a llenarlo. Vamos a ve multiplies formas de llenarlo y otras cuantas para crearlo."
   ]
  },
  {
   "cell_type": "markdown",
   "metadata": {},
   "source": [
    "### Añadir columnas\n",
    "\n",
    "Para añadir una columna a un DataFrame podemos asignarle los valores que debe tener dicha columna, como en un diccionario y entre corchetes.\n",
    "Para este ejemplo solo pondremos el nombre de la columna sin datos algunos."
   ]
  },
  {
   "cell_type": "code",
   "execution_count": 3,
   "metadata": {},
   "outputs": [
    {
     "data": {
      "text/html": [
       "<div>\n",
       "<style scoped>\n",
       "    .dataframe tbody tr th:only-of-type {\n",
       "        vertical-align: middle;\n",
       "    }\n",
       "\n",
       "    .dataframe tbody tr th {\n",
       "        vertical-align: top;\n",
       "    }\n",
       "\n",
       "    .dataframe thead th {\n",
       "        text-align: right;\n",
       "    }\n",
       "</style>\n",
       "<table border=\"1\" class=\"dataframe\">\n",
       "  <thead>\n",
       "    <tr style=\"text-align: right;\">\n",
       "      <th></th>\n",
       "      <th>Lunes</th>\n",
       "      <th>Martes</th>\n",
       "      <th>Miercoles</th>\n",
       "    </tr>\n",
       "  </thead>\n",
       "  <tbody>\n",
       "  </tbody>\n",
       "</table>\n",
       "</div>"
      ],
      "text/plain": [
       "Empty DataFrame\n",
       "Columns: [Lunes, Martes, Miercoles]\n",
       "Index: []"
      ]
     },
     "execution_count": 3,
     "metadata": {},
     "output_type": "execute_result"
    }
   ],
   "source": [
    "DF['Lunes'] = None\n",
    "DF['Martes'] = None\n",
    "DF['Miercoles'] = None\n",
    "DF"
   ]
  },
  {
   "cell_type": "markdown",
   "metadata": {},
   "source": [
    "Podemos ver que nuestro DataFrame aun esta vacio pero ya tenemos 3 columnas.\n",
    "\n",
    "Procedamos a ingresar los datos, lo haremos mediante listas, las cuales tienen los elemetos de cada una de las columnas."
   ]
  },
  {
   "cell_type": "code",
   "execution_count": 4,
   "metadata": {
    "scrolled": true
   },
   "outputs": [
    {
     "data": {
      "text/html": [
       "<div>\n",
       "<style scoped>\n",
       "    .dataframe tbody tr th:only-of-type {\n",
       "        vertical-align: middle;\n",
       "    }\n",
       "\n",
       "    .dataframe tbody tr th {\n",
       "        vertical-align: top;\n",
       "    }\n",
       "\n",
       "    .dataframe thead th {\n",
       "        text-align: right;\n",
       "    }\n",
       "</style>\n",
       "<table border=\"1\" class=\"dataframe\">\n",
       "  <thead>\n",
       "    <tr style=\"text-align: right;\">\n",
       "      <th></th>\n",
       "      <th>Lunes</th>\n",
       "      <th>Martes</th>\n",
       "      <th>Miercoles</th>\n",
       "    </tr>\n",
       "  </thead>\n",
       "  <tbody>\n",
       "    <tr>\n",
       "      <th>0</th>\n",
       "      <td>Quesadilla</td>\n",
       "      <td>Huevos</td>\n",
       "      <td>Licuado</td>\n",
       "    </tr>\n",
       "    <tr>\n",
       "      <th>1</th>\n",
       "      <td>Pollo</td>\n",
       "      <td>Sopa</td>\n",
       "      <td>Carne</td>\n",
       "    </tr>\n",
       "    <tr>\n",
       "      <th>2</th>\n",
       "      <td>Licuado</td>\n",
       "      <td>Cereal</td>\n",
       "      <td>Tostadas</td>\n",
       "    </tr>\n",
       "  </tbody>\n",
       "</table>\n",
       "</div>"
      ],
      "text/plain": [
       "        Lunes  Martes Miercoles\n",
       "0  Quesadilla  Huevos   Licuado\n",
       "1       Pollo    Sopa     Carne\n",
       "2     Licuado  Cereal  Tostadas"
      ]
     },
     "execution_count": 4,
     "metadata": {},
     "output_type": "execute_result"
    }
   ],
   "source": [
    "Lunes = ['Quesadilla','Pollo', 'Licuado']\n",
    "Martes = ['Huevos', 'Sopa', 'Cereal']\n",
    "Miercoles = ['Licuado', 'Carne', 'Tostadas']\n",
    "\n",
    "DF['Lunes'] = Lunes\n",
    "DF['Martes'] = Martes\n",
    "DF['Miercoles'] = Miercoles\n",
    "\n",
    "DF"
   ]
  },
  {
   "cell_type": "markdown",
   "metadata": {},
   "source": [
    "**NOTA.** Si asignamos valores de esta forma, debemos de verificar que todas las listas sean del mismo tamaño, es decir, igual longitud.\n",
    "\n",
    "También podemos agregar columnas y filas completas a nuestro DataFrame, usaremos la función *append*, dicha función agregará la fila al final de nuestro DataFrame.\n",
    "A esta funcion le podemos proporcionar un diccionario o un objeto del tipo Series de PANDAS el cual es una lista con los valores de las columnas."
   ]
  },
  {
   "cell_type": "code",
   "execution_count": 5,
   "metadata": {},
   "outputs": [
    {
     "data": {
      "text/html": [
       "<div>\n",
       "<style scoped>\n",
       "    .dataframe tbody tr th:only-of-type {\n",
       "        vertical-align: middle;\n",
       "    }\n",
       "\n",
       "    .dataframe tbody tr th {\n",
       "        vertical-align: top;\n",
       "    }\n",
       "\n",
       "    .dataframe thead th {\n",
       "        text-align: right;\n",
       "    }\n",
       "</style>\n",
       "<table border=\"1\" class=\"dataframe\">\n",
       "  <thead>\n",
       "    <tr style=\"text-align: right;\">\n",
       "      <th></th>\n",
       "      <th>Lunes</th>\n",
       "      <th>Martes</th>\n",
       "      <th>Miercoles</th>\n",
       "    </tr>\n",
       "  </thead>\n",
       "  <tbody>\n",
       "    <tr>\n",
       "      <th>0</th>\n",
       "      <td>Quesadilla</td>\n",
       "      <td>Huevos</td>\n",
       "      <td>Licuado</td>\n",
       "    </tr>\n",
       "    <tr>\n",
       "      <th>1</th>\n",
       "      <td>Pollo</td>\n",
       "      <td>Sopa</td>\n",
       "      <td>Carne</td>\n",
       "    </tr>\n",
       "    <tr>\n",
       "      <th>2</th>\n",
       "      <td>Licuado</td>\n",
       "      <td>Cereal</td>\n",
       "      <td>Tostadas</td>\n",
       "    </tr>\n",
       "    <tr>\n",
       "      <th>3</th>\n",
       "      <td>Manzana</td>\n",
       "      <td>Uvas</td>\n",
       "      <td>Piña</td>\n",
       "    </tr>\n",
       "    <tr>\n",
       "      <th>4</th>\n",
       "      <td>A.Limon</td>\n",
       "      <td>A.Jamaica</td>\n",
       "      <td>A.Pepino</td>\n",
       "    </tr>\n",
       "  </tbody>\n",
       "</table>\n",
       "</div>"
      ],
      "text/plain": [
       "        Lunes     Martes Miercoles\n",
       "0  Quesadilla     Huevos   Licuado\n",
       "1       Pollo       Sopa     Carne\n",
       "2     Licuado     Cereal  Tostadas\n",
       "3     Manzana       Uvas      Piña\n",
       "4     A.Limon  A.Jamaica  A.Pepino"
      ]
     },
     "execution_count": 5,
     "metadata": {},
     "output_type": "execute_result"
    }
   ],
   "source": [
    "# Fila nueva con un diccionario\n",
    "fila3 = {'Lunes': 'Manzana', 'Martes': 'Uvas', 'Miercoles': 'Piña'}\n",
    "DF = DF.append(fila3,ignore_index=True)\n",
    "\n",
    "# Fila nueva con objeto Series\n",
    "fila4 = pd.Series(['A.Limon','A.Jamaica','A.Pepino'], index=DF.columns)\n",
    "DF = DF.append(fila4, ignore_index=True)\n",
    "\n",
    "DF"
   ]
  },
  {
   "cell_type": "markdown",
   "metadata": {},
   "source": [
    "Vease que la función *append* nos devuelve un objeto nuevo con los datos que recien ingresamos.\n",
    "También, cuando creamos un objeto de tipo Series debemos indicar las columnas en el mismo orden de los datos, por eso es que usamos la sentencia *index* y *columns* para no tener que escribirlos uno por uno, con esto le decimos que el orden de los datos va respectivamente con el indice de cada columna.\n",
    "\n",
    "Ahora cambiaremos el nombre de las filas, lo haremos con la función *rename*, para cambiar el nombre de las filas debemos proporcionarle la variable index a la cual se le esta asiganado un diccionario en el cual las claves son los incides originales y los valores so los nombres nuevos para los indices.\n",
    "\n",
    "Veamos el ejemplo."
   ]
  },
  {
   "cell_type": "code",
   "execution_count": 5,
   "metadata": {},
   "outputs": [
    {
     "data": {
      "text/html": [
       "<div>\n",
       "<style scoped>\n",
       "    .dataframe tbody tr th:only-of-type {\n",
       "        vertical-align: middle;\n",
       "    }\n",
       "\n",
       "    .dataframe tbody tr th {\n",
       "        vertical-align: top;\n",
       "    }\n",
       "\n",
       "    .dataframe thead th {\n",
       "        text-align: right;\n",
       "    }\n",
       "</style>\n",
       "<table border=\"1\" class=\"dataframe\">\n",
       "  <thead>\n",
       "    <tr style=\"text-align: right;\">\n",
       "      <th></th>\n",
       "      <th>Lunes</th>\n",
       "      <th>Martes</th>\n",
       "      <th>Miercoles</th>\n",
       "    </tr>\n",
       "  </thead>\n",
       "  <tbody>\n",
       "    <tr>\n",
       "      <th>Desayuno</th>\n",
       "      <td>Quesadilla</td>\n",
       "      <td>Huevos</td>\n",
       "      <td>Licuado</td>\n",
       "    </tr>\n",
       "    <tr>\n",
       "      <th>Comida</th>\n",
       "      <td>Pollo</td>\n",
       "      <td>Sopa</td>\n",
       "      <td>Carne</td>\n",
       "    </tr>\n",
       "    <tr>\n",
       "      <th>Cena</th>\n",
       "      <td>Licuado</td>\n",
       "      <td>Cereal</td>\n",
       "      <td>Tostadas</td>\n",
       "    </tr>\n",
       "    <tr>\n",
       "      <th>Fruta</th>\n",
       "      <td>Manzana</td>\n",
       "      <td>Uvas</td>\n",
       "      <td>Piña</td>\n",
       "    </tr>\n",
       "    <tr>\n",
       "      <th>Agua</th>\n",
       "      <td>A.Limos</td>\n",
       "      <td>A.Jamaica</td>\n",
       "      <td>A.Pepino</td>\n",
       "    </tr>\n",
       "  </tbody>\n",
       "</table>\n",
       "</div>"
      ],
      "text/plain": [
       "               Lunes     Martes Miercoles\n",
       "Desayuno  Quesadilla     Huevos   Licuado\n",
       "Comida         Pollo       Sopa     Carne\n",
       "Cena         Licuado     Cereal  Tostadas\n",
       "Fruta        Manzana       Uvas      Piña\n",
       "Agua         A.Limos  A.Jamaica  A.Pepino"
      ]
     },
     "execution_count": 5,
     "metadata": {},
     "output_type": "execute_result"
    }
   ],
   "source": [
    "DF.rename(index={0: 'Desayuno', 1: 'Comida', 2: 'Cena', 3: 'Fruta', 4: 'Agua'}, inplace=True)\n",
    "DF"
   ]
  },
  {
   "cell_type": "markdown",
   "metadata": {},
   "source": [
    "Otra forma de cambiar el nombre de las filas es de la siguiente manera."
   ]
  },
  {
   "cell_type": "code",
   "execution_count": 27,
   "metadata": {},
   "outputs": [
    {
     "data": {
      "text/html": [
       "<div>\n",
       "<style scoped>\n",
       "    .dataframe tbody tr th:only-of-type {\n",
       "        vertical-align: middle;\n",
       "    }\n",
       "\n",
       "    .dataframe tbody tr th {\n",
       "        vertical-align: top;\n",
       "    }\n",
       "\n",
       "    .dataframe thead th {\n",
       "        text-align: right;\n",
       "    }\n",
       "</style>\n",
       "<table border=\"1\" class=\"dataframe\">\n",
       "  <thead>\n",
       "    <tr style=\"text-align: right;\">\n",
       "      <th></th>\n",
       "      <th>Lunes</th>\n",
       "      <th>Martes</th>\n",
       "      <th>Miercoles</th>\n",
       "    </tr>\n",
       "  </thead>\n",
       "  <tbody>\n",
       "    <tr>\n",
       "      <th>Des</th>\n",
       "      <td>Quesadilla</td>\n",
       "      <td>Huevos</td>\n",
       "      <td>Licuado</td>\n",
       "    </tr>\n",
       "    <tr>\n",
       "      <th>Almuerzo</th>\n",
       "      <td>Pollo</td>\n",
       "      <td>Sopa</td>\n",
       "      <td>Carne</td>\n",
       "    </tr>\n",
       "    <tr>\n",
       "      <th>Cen</th>\n",
       "      <td>Licuado</td>\n",
       "      <td>Cereal</td>\n",
       "      <td>Tostadas</td>\n",
       "    </tr>\n",
       "    <tr>\n",
       "      <th>Frut</th>\n",
       "      <td>Manzana</td>\n",
       "      <td>Uvas</td>\n",
       "      <td>Piña</td>\n",
       "    </tr>\n",
       "    <tr>\n",
       "      <th>Agu</th>\n",
       "      <td>A.Limos</td>\n",
       "      <td>A.Jamaica</td>\n",
       "      <td>A.Pepino</td>\n",
       "    </tr>\n",
       "  </tbody>\n",
       "</table>\n",
       "</div>"
      ],
      "text/plain": [
       "               Lunes     Martes Miercoles\n",
       "Des       Quesadilla     Huevos   Licuado\n",
       "Almuerzo       Pollo       Sopa     Carne\n",
       "Cen          Licuado     Cereal  Tostadas\n",
       "Frut         Manzana       Uvas      Piña\n",
       "Agu          A.Limos  A.Jamaica  A.Pepino"
      ]
     },
     "execution_count": 27,
     "metadata": {},
     "output_type": "execute_result"
    }
   ],
   "source": [
    "DF.index = ['Des', 'Almuerzo', 'Cen', 'Frut', 'Agu']\n",
    "DF"
   ]
  },
  {
   "cell_type": "markdown",
   "metadata": {},
   "source": [
    "Con la forma anterior aún que solo modifiquemos un solo nombre, debemos escribir el resto de los nombres de las filas."
   ]
  },
  {
   "cell_type": "markdown",
   "metadata": {},
   "source": [
    "## DataFrame a partir de listas\n",
    "\n",
    "Ya vimos como podemos ir llenando de apoco nuestro DataFrame cuando no se tienen los valores desde un inicio.\n",
    "Ahora veamos como podemos hacer un DataFrame a partir de una serie de listas.\n",
    "\n",
    "Crearemos un DataFrame tipo horario de clases, vease el ejemplo."
   ]
  },
  {
   "cell_type": "code",
   "execution_count": 6,
   "metadata": {},
   "outputs": [
    {
     "data": {
      "text/html": [
       "<div>\n",
       "<style scoped>\n",
       "    .dataframe tbody tr th:only-of-type {\n",
       "        vertical-align: middle;\n",
       "    }\n",
       "\n",
       "    .dataframe tbody tr th {\n",
       "        vertical-align: top;\n",
       "    }\n",
       "\n",
       "    .dataframe thead th {\n",
       "        text-align: right;\n",
       "    }\n",
       "</style>\n",
       "<table border=\"1\" class=\"dataframe\">\n",
       "  <thead>\n",
       "    <tr style=\"text-align: right;\">\n",
       "      <th></th>\n",
       "      <th>Lunes</th>\n",
       "      <th>Miercoles</th>\n",
       "      <th>Viernes</th>\n",
       "    </tr>\n",
       "  </thead>\n",
       "  <tbody>\n",
       "    <tr>\n",
       "      <th>08:00 - 10:00</th>\n",
       "      <td>Matemáticas</td>\n",
       "      <td>Historia</td>\n",
       "      <td>Español</td>\n",
       "    </tr>\n",
       "    <tr>\n",
       "      <th>10:00 - 12:00</th>\n",
       "      <td>Geografia</td>\n",
       "      <td>Matemáticas</td>\n",
       "      <td>Química</td>\n",
       "    </tr>\n",
       "    <tr>\n",
       "      <th>12:00 - 14:00</th>\n",
       "      <td>Física</td>\n",
       "      <td>Lógica</td>\n",
       "      <td>Matemáticas</td>\n",
       "    </tr>\n",
       "  </tbody>\n",
       "</table>\n",
       "</div>"
      ],
      "text/plain": [
       "                     Lunes    Miercoles      Viernes\n",
       "08:00 - 10:00  Matemáticas     Historia      Español\n",
       "10:00 - 12:00    Geografia  Matemáticas      Química\n",
       "12:00 - 14:00       Física       Lógica  Matemáticas"
      ]
     },
     "execution_count": 6,
     "metadata": {},
     "output_type": "execute_result"
    }
   ],
   "source": [
    "h1 = ['Matemáticas', 'Historia', 'Español']\n",
    "h2 = ['Geografia', 'Matemáticas', 'Química']\n",
    "h3 = ['Física', 'Lógica', 'Matemáticas']\n",
    "\n",
    "horario = [h1, h2, h3]\n",
    "\n",
    "DFH = pd.DataFrame(horario, columns = ['Lunes', 'Miercoles', 'Viernes'], \n",
    "                   index = ['08:00 - 10:00', '10:00 - 12:00', '12:00 - 14:00'])\n",
    "DFH"
   ]
  },
  {
   "cell_type": "markdown",
   "metadata": {},
   "source": [
    "De la celda anterior podemos ver que en nuestras listas h1, h2, h3 estan los elementos de nuestro DataFrame por filas.\n",
    "Luego, para crearlo unimos las listas en una sola lista y esa ultima lista es el argumento que le vamos a pasar al constructor. Con el atributo columns le inidico los nombres de las columnas  con el parametro index le indico los nombres de las filas."
   ]
  },
  {
   "cell_type": "markdown",
   "metadata": {},
   "source": [
    "## DataFrame a partir de diccionarios\n",
    "\n",
    "Al igual que con las listas, podemos crear un DataFrame a partir de un diccionario.\n",
    "\n",
    "Veamos el mismo ejemplo anterior.\n"
   ]
  },
  {
   "cell_type": "code",
   "execution_count": 7,
   "metadata": {},
   "outputs": [
    {
     "data": {
      "text/html": [
       "<div>\n",
       "<style scoped>\n",
       "    .dataframe tbody tr th:only-of-type {\n",
       "        vertical-align: middle;\n",
       "    }\n",
       "\n",
       "    .dataframe tbody tr th {\n",
       "        vertical-align: top;\n",
       "    }\n",
       "\n",
       "    .dataframe thead th {\n",
       "        text-align: right;\n",
       "    }\n",
       "</style>\n",
       "<table border=\"1\" class=\"dataframe\">\n",
       "  <thead>\n",
       "    <tr style=\"text-align: right;\">\n",
       "      <th></th>\n",
       "      <th>Lunes</th>\n",
       "      <th>Miercoles</th>\n",
       "      <th>Viernes</th>\n",
       "    </tr>\n",
       "  </thead>\n",
       "  <tbody>\n",
       "    <tr>\n",
       "      <th>08:00 - 10:00</th>\n",
       "      <td>Matematicas</td>\n",
       "      <td>Historia</td>\n",
       "      <td>Español</td>\n",
       "    </tr>\n",
       "    <tr>\n",
       "      <th>10:00 - 12:00</th>\n",
       "      <td>Geografia</td>\n",
       "      <td>Matematicas</td>\n",
       "      <td>Quimica</td>\n",
       "    </tr>\n",
       "    <tr>\n",
       "      <th>12:00 - 14:00</th>\n",
       "      <td>Fisica</td>\n",
       "      <td>Logica</td>\n",
       "      <td>Matematicas</td>\n",
       "    </tr>\n",
       "  </tbody>\n",
       "</table>\n",
       "</div>"
      ],
      "text/plain": [
       "                     Lunes    Miercoles      Viernes\n",
       "08:00 - 10:00  Matematicas     Historia      Español\n",
       "10:00 - 12:00    Geografia  Matematicas      Quimica\n",
       "12:00 - 14:00       Fisica       Logica  Matematicas"
      ]
     },
     "execution_count": 7,
     "metadata": {},
     "output_type": "execute_result"
    }
   ],
   "source": [
    "Horario = {'Lunes': ['Matematicas', 'Geografia', 'Fisica'],\n",
    "          'Miercoles': ['Historia', 'Matematicas', 'Logica'],\n",
    "          'Viernes': ['Español', 'Quimica', 'Matematicas']}\n",
    "\n",
    "DFH_2 = pd.DataFrame(Horario)\n",
    "\n",
    "DFH_2.index = ['08:00 - 10:00', '10:00 - 12:00', '12:00 - 14:00']\n",
    "\n",
    "DFH_2"
   ]
  },
  {
   "cell_type": "markdown",
   "metadata": {},
   "source": [
    "D la forma anterior podemos ver que las claves del diccionario son los nombres de las columnas y los valores son listas de donde vemos que los elementos de dichas listas son los elementos por columnas del DataFrame y el nombre de las filas lo definimos como lo vimos anteriormente."
   ]
  },
  {
   "cell_type": "markdown",
   "metadata": {},
   "source": [
    "## Seleccionar elementos\n",
    "\n",
    "Dentro de un DataFrame podemos seleccionar o recuperar los elementos ya sea que querramos un elemento especifico, toda una columna o fila, esto lo haremo con la función **iloc()**\n",
    "\n",
    "A continuación vemos como hacerlo."
   ]
  },
  {
   "cell_type": "code",
   "execution_count": 19,
   "metadata": {},
   "outputs": [
    {
     "data": {
      "text/plain": [
       "'Química'"
      ]
     },
     "execution_count": 19,
     "metadata": {},
     "output_type": "execute_result"
    }
   ],
   "source": [
    "DFH.iloc[1,2]"
   ]
  },
  {
   "cell_type": "markdown",
   "metadata": {},
   "source": [
    "Lo que hacemos anterior mente es que estamos seleccionando el elemento que esta en la fila 1 y la columna 2, recuerden que python comienza a contar en 0, por eso es que nos da 'Química' como resultado.\n",
    "\n",
    "Si quisieramos seleccionar toda una columna basta con la siguiente sentencia."
   ]
  },
  {
   "cell_type": "code",
   "execution_count": 20,
   "metadata": {},
   "outputs": [
    {
     "data": {
      "text/plain": [
       "08:00 - 10:00        Español\n",
       "10:00 - 12:00        Química\n",
       "12:00 - 14:00    Matemáticas\n",
       "Name: Viernes, dtype: object"
      ]
     },
     "execution_count": 20,
     "metadata": {},
     "output_type": "execute_result"
    }
   ],
   "source": [
    "DFH['Viernes']"
   ]
  },
  {
   "cell_type": "markdown",
   "metadata": {},
   "source": [
    "Lo anterior nos produce toda la columna que se le este solictando junto con los indices que en este ejemplo son horas de clase.\n",
    "\n",
    "De la misma manera que seleccionamos una columna, podemos selecionar toda una fila."
   ]
  },
  {
   "cell_type": "code",
   "execution_count": 21,
   "metadata": {},
   "outputs": [
    {
     "data": {
      "text/plain": [
       "Lunes             Física\n",
       "Miercoles         Lógica\n",
       "Viernes      Matemáticas\n",
       "Name: 12:00 - 14:00, dtype: object"
      ]
     },
     "execution_count": 21,
     "metadata": {},
     "output_type": "execute_result"
    }
   ],
   "source": [
    "DFH.iloc[2]"
   ]
  },
  {
   "cell_type": "markdown",
   "metadata": {},
   "source": [
    "Esto ultimo nos produce toda la fila 2 y a un lado el nombre de la columna al que corresponde cada elemento de la fila.\n",
    "\n",
    "Además de seleccionar los elementos de un DataFrame también podemos organizarlos de manera ascendente o descendente.\n",
    "\n",
    "Veamos un ejemplo."
   ]
  },
  {
   "cell_type": "code",
   "execution_count": 22,
   "metadata": {},
   "outputs": [
    {
     "data": {
      "text/html": [
       "<div>\n",
       "<style scoped>\n",
       "    .dataframe tbody tr th:only-of-type {\n",
       "        vertical-align: middle;\n",
       "    }\n",
       "\n",
       "    .dataframe tbody tr th {\n",
       "        vertical-align: top;\n",
       "    }\n",
       "\n",
       "    .dataframe thead th {\n",
       "        text-align: right;\n",
       "    }\n",
       "</style>\n",
       "<table border=\"1\" class=\"dataframe\">\n",
       "  <thead>\n",
       "    <tr style=\"text-align: right;\">\n",
       "      <th></th>\n",
       "      <th>Lunes</th>\n",
       "      <th>Miercoles</th>\n",
       "      <th>Viernes</th>\n",
       "    </tr>\n",
       "  </thead>\n",
       "  <tbody>\n",
       "    <tr>\n",
       "      <th>12:00 - 14:00</th>\n",
       "      <td>Física</td>\n",
       "      <td>Lógica</td>\n",
       "      <td>Matemáticas</td>\n",
       "    </tr>\n",
       "    <tr>\n",
       "      <th>10:00 - 12:00</th>\n",
       "      <td>Geografia</td>\n",
       "      <td>Matemáticas</td>\n",
       "      <td>Química</td>\n",
       "    </tr>\n",
       "    <tr>\n",
       "      <th>08:00 - 10:00</th>\n",
       "      <td>Matemáticas</td>\n",
       "      <td>Historia</td>\n",
       "      <td>Español</td>\n",
       "    </tr>\n",
       "  </tbody>\n",
       "</table>\n",
       "</div>"
      ],
      "text/plain": [
       "                     Lunes    Miercoles      Viernes\n",
       "12:00 - 14:00       Física       Lógica  Matemáticas\n",
       "10:00 - 12:00    Geografia  Matemáticas      Química\n",
       "08:00 - 10:00  Matemáticas     Historia      Español"
      ]
     },
     "execution_count": 22,
     "metadata": {},
     "output_type": "execute_result"
    }
   ],
   "source": [
    "# Ascendente\n",
    "\n",
    "DFH.sort_values('Lunes', ascending = True)"
   ]
  },
  {
   "cell_type": "markdown",
   "metadata": {},
   "source": [
    "Lo que hicimos fue que reordenamos los elementos de la columna Lunes de manera ascendente es decir alfabeticamente en este caso por ser palabras, si hubiesen sido numeros se hubieran ordenado del menor al mayor.\n",
    "\n",
    "Para ordenas de forma descendente se hace de la misma manera solo que en parametro ascending se le pasa un False."
   ]
  },
  {
   "cell_type": "code",
   "execution_count": 9,
   "metadata": {},
   "outputs": [
    {
     "data": {
      "text/html": [
       "<div>\n",
       "<style scoped>\n",
       "    .dataframe tbody tr th:only-of-type {\n",
       "        vertical-align: middle;\n",
       "    }\n",
       "\n",
       "    .dataframe tbody tr th {\n",
       "        vertical-align: top;\n",
       "    }\n",
       "\n",
       "    .dataframe thead th {\n",
       "        text-align: right;\n",
       "    }\n",
       "</style>\n",
       "<table border=\"1\" class=\"dataframe\">\n",
       "  <thead>\n",
       "    <tr style=\"text-align: right;\">\n",
       "      <th></th>\n",
       "      <th>Lunes</th>\n",
       "      <th>Miercoles</th>\n",
       "      <th>Viernes</th>\n",
       "    </tr>\n",
       "  </thead>\n",
       "  <tbody>\n",
       "    <tr>\n",
       "      <th>10:00 - 12:00</th>\n",
       "      <td>Geografia</td>\n",
       "      <td>Matemáticas</td>\n",
       "      <td>Química</td>\n",
       "    </tr>\n",
       "    <tr>\n",
       "      <th>12:00 - 14:00</th>\n",
       "      <td>Física</td>\n",
       "      <td>Lógica</td>\n",
       "      <td>Matemáticas</td>\n",
       "    </tr>\n",
       "    <tr>\n",
       "      <th>08:00 - 10:00</th>\n",
       "      <td>Matemáticas</td>\n",
       "      <td>Historia</td>\n",
       "      <td>Español</td>\n",
       "    </tr>\n",
       "  </tbody>\n",
       "</table>\n",
       "</div>"
      ],
      "text/plain": [
       "                     Lunes    Miercoles      Viernes\n",
       "10:00 - 12:00    Geografia  Matemáticas      Química\n",
       "12:00 - 14:00       Física       Lógica  Matemáticas\n",
       "08:00 - 10:00  Matemáticas     Historia      Español"
      ]
     },
     "execution_count": 9,
     "metadata": {},
     "output_type": "execute_result"
    }
   ],
   "source": [
    "# Descendente\n",
    "\n",
    "DFH.sort_values('Miercoles', ascending = False)"
   ]
  },
  {
   "cell_type": "markdown",
   "metadata": {},
   "source": [
    "Existen muchas formas de llenar y crear un DataFrame, aqui solo se mencionaron algunas.\n",
    "\n",
    "Se deja como actividad al lector agregar las columnas faltantes a los dias habiles (Martes y Jueves) además de agregar otras dos asignaturas al horario, puede modificar los intervalos de las horas a su parecer."
   ]
  },
  {
   "cell_type": "markdown",
   "metadata": {},
   "source": [
    "## Funciones y Limites en un DataFrame\n",
    "\n",
    "Los DataFrame son de gran utilidad cuando queremos hacer un analisis de datos, pues por su distribucion es mas facil de comprender que esta pasando con ellos. Para esta sección analizaremos valores de funciones y limites.\n",
    "\n",
    "### Funciones\n",
    "\n",
    "En matematicas es muy importante saber como se comparta cierta función, es decir, si es creciente, decreciente, tiene maximos o minimos, etc.  En ocasiones solemos graficar estas funciones y con cuerde a la grafica podemos deducir el comportamiento. Cuando no se tiene un software que nos grafique la funcion, lo ideal es hacerlo a mano o cuando queremos ver en que puntos se encuetran los datos que buscamos analizar, es conveniente realizar un tabulación para tener una base de donde se encuentran los parametros a observar.\n",
    "\n",
    "Ejemplo. $$f(x) = x^3+5x^2-4x -6$$\n",
    "\n",
    "De la función anterior, sin hacer calculos, veremos una aproxiamción de donde se encuentran sus raizes y donde podria haber un minimo o un maximo local."
   ]
  },
  {
   "cell_type": "markdown",
   "metadata": {},
   "source": [
    "Como primer paso creamos un vector el cual seran los valores de nuestras $x$, para este caso lo eligirimos de $-6$ a $6$ con 25 elementos.\n",
    "\n",
    "Luego escribimos nuestra funcion y le pasamos como variable el vector que creamos antes.\n",
    "\n",
    "Una ves hecho esto cramos un DataFrame con los resultados.\n",
    "\n",
    "Vease a continuación."
   ]
  },
  {
   "cell_type": "code",
   "execution_count": 48,
   "metadata": {},
   "outputs": [
    {
     "data": {
      "text/html": [
       "<table border=\"1\" class=\"dataframe\">\n",
       "  <thead>\n",
       "    <tr style=\"text-align: right;\">\n",
       "      <th>$x$</th>\n",
       "      <th>$f(x)$</th>\n",
       "    </tr>\n",
       "  </thead>\n",
       "  <tbody>\n",
       "    <tr>\n",
       "      <td>-6.0</td>\n",
       "      <td>-18.000</td>\n",
       "    </tr>\n",
       "    <tr>\n",
       "      <td>-5.5</td>\n",
       "      <td>0.875</td>\n",
       "    </tr>\n",
       "    <tr>\n",
       "      <td>-5.0</td>\n",
       "      <td>14.000</td>\n",
       "    </tr>\n",
       "    <tr>\n",
       "      <td>-4.5</td>\n",
       "      <td>22.125</td>\n",
       "    </tr>\n",
       "    <tr>\n",
       "      <td>-4.0</td>\n",
       "      <td>26.000</td>\n",
       "    </tr>\n",
       "    <tr>\n",
       "      <td>-3.5</td>\n",
       "      <td>26.375</td>\n",
       "    </tr>\n",
       "    <tr>\n",
       "      <td>-3.0</td>\n",
       "      <td>24.000</td>\n",
       "    </tr>\n",
       "    <tr>\n",
       "      <td>-2.5</td>\n",
       "      <td>19.625</td>\n",
       "    </tr>\n",
       "    <tr>\n",
       "      <td>-2.0</td>\n",
       "      <td>14.000</td>\n",
       "    </tr>\n",
       "    <tr>\n",
       "      <td>-1.5</td>\n",
       "      <td>7.875</td>\n",
       "    </tr>\n",
       "    <tr>\n",
       "      <td>-1.0</td>\n",
       "      <td>2.000</td>\n",
       "    </tr>\n",
       "    <tr>\n",
       "      <td>-0.5</td>\n",
       "      <td>-2.875</td>\n",
       "    </tr>\n",
       "    <tr>\n",
       "      <td>0.0</td>\n",
       "      <td>-6.000</td>\n",
       "    </tr>\n",
       "    <tr>\n",
       "      <td>0.5</td>\n",
       "      <td>-6.625</td>\n",
       "    </tr>\n",
       "    <tr>\n",
       "      <td>1.0</td>\n",
       "      <td>-4.000</td>\n",
       "    </tr>\n",
       "    <tr>\n",
       "      <td>1.5</td>\n",
       "      <td>2.625</td>\n",
       "    </tr>\n",
       "    <tr>\n",
       "      <td>2.0</td>\n",
       "      <td>14.000</td>\n",
       "    </tr>\n",
       "    <tr>\n",
       "      <td>2.5</td>\n",
       "      <td>30.875</td>\n",
       "    </tr>\n",
       "    <tr>\n",
       "      <td>3.0</td>\n",
       "      <td>54.000</td>\n",
       "    </tr>\n",
       "    <tr>\n",
       "      <td>3.5</td>\n",
       "      <td>84.125</td>\n",
       "    </tr>\n",
       "    <tr>\n",
       "      <td>4.0</td>\n",
       "      <td>122.000</td>\n",
       "    </tr>\n",
       "    <tr>\n",
       "      <td>4.5</td>\n",
       "      <td>168.375</td>\n",
       "    </tr>\n",
       "    <tr>\n",
       "      <td>5.0</td>\n",
       "      <td>224.000</td>\n",
       "    </tr>\n",
       "    <tr>\n",
       "      <td>5.5</td>\n",
       "      <td>289.625</td>\n",
       "    </tr>\n",
       "    <tr>\n",
       "      <td>6.0</td>\n",
       "      <td>366.000</td>\n",
       "    </tr>\n",
       "  </tbody>\n",
       "</table>"
      ],
      "text/plain": [
       "<IPython.core.display.HTML object>"
      ]
     },
     "execution_count": 48,
     "metadata": {},
     "output_type": "execute_result"
    }
   ],
   "source": [
    "import numpy as np\n",
    "import pandas as pd\n",
    "from IPython.display import HTML\n",
    "x=np.linspace(-6,6,25)\n",
    "y=x**3 + 5*x**2 - 4*x -6\n",
    "datos=pd.DataFrame()\n",
    "datos['$x$']=x\n",
    "datos['$f(x)$']=y\n",
    "HTML(datos.to_html(index=False))"
   ]
  },
  {
   "cell_type": "markdown",
   "metadata": {},
   "source": [
    "De la tabla anterior podemos ver que, las raices se encuentran en los intervalos (-6,-5.5), (-1,-0.5) y (1,1.5), además que en el intervalo (-4,-3) podria haber un maximo de la funcion y en el intervalo (0,1) podria hallarse un minimo de esta funcion.\n",
    "\n",
    "Para ser un poco más precisos, se pueden crear 5 vectores $x_i$ con i = 1,2,...,5. Donde los extremos del vector son los extremos de los intervalos mencionados antes, y los vectores deben ser de igual longitud para poder agregarlos al DataFrame anterior y poder analizarlos.\n",
    "\n",
    "Se deja como actividad para el lector.\n",
    "\n",
    "De la misma forma que lo hicimos con esta función $f(x)$ lo podemos hacer con muchas otras."
   ]
  },
  {
   "cell_type": "markdown",
   "metadata": {},
   "source": [
    "### Limites\n",
    "\n",
    "En un DataFrame es facil de ver hacia donde tiende cierta función, pues al igual que en el caso anterior evaluamos la función con un vector y lo podemos agregar a un DataFrame.\n",
    "\n",
    "Ejemplo. $$f(x)={1\\over n}\\quad\\quad f(x)={1\\over n^2}\\quad\\quad f(x)={1\\over n^3}$$"
   ]
  },
  {
   "cell_type": "code",
   "execution_count": 47,
   "metadata": {},
   "outputs": [
    {
     "data": {
      "text/html": [
       "<table border=\"1\" class=\"dataframe\">\n",
       "  <thead>\n",
       "    <tr style=\"text-align: right;\">\n",
       "      <th>$n$</th>\n",
       "      <th>${1\\over n}$</th>\n",
       "      <th>${1\\over n^2}$</th>\n",
       "      <th>${1\\over n^3}$</th>\n",
       "    </tr>\n",
       "  </thead>\n",
       "  <tbody>\n",
       "    <tr>\n",
       "      <td>1.0</td>\n",
       "      <td>1.000000</td>\n",
       "      <td>1.000000</td>\n",
       "      <td>1.000000</td>\n",
       "    </tr>\n",
       "    <tr>\n",
       "      <td>2.0</td>\n",
       "      <td>0.500000</td>\n",
       "      <td>0.250000</td>\n",
       "      <td>0.125000</td>\n",
       "    </tr>\n",
       "    <tr>\n",
       "      <td>3.0</td>\n",
       "      <td>0.333333</td>\n",
       "      <td>0.111111</td>\n",
       "      <td>0.037037</td>\n",
       "    </tr>\n",
       "    <tr>\n",
       "      <td>4.0</td>\n",
       "      <td>0.250000</td>\n",
       "      <td>0.062500</td>\n",
       "      <td>0.015625</td>\n",
       "    </tr>\n",
       "    <tr>\n",
       "      <td>5.0</td>\n",
       "      <td>0.200000</td>\n",
       "      <td>0.040000</td>\n",
       "      <td>0.008000</td>\n",
       "    </tr>\n",
       "    <tr>\n",
       "      <td>6.0</td>\n",
       "      <td>0.166667</td>\n",
       "      <td>0.027778</td>\n",
       "      <td>0.004630</td>\n",
       "    </tr>\n",
       "    <tr>\n",
       "      <td>7.0</td>\n",
       "      <td>0.142857</td>\n",
       "      <td>0.020408</td>\n",
       "      <td>0.002915</td>\n",
       "    </tr>\n",
       "    <tr>\n",
       "      <td>8.0</td>\n",
       "      <td>0.125000</td>\n",
       "      <td>0.015625</td>\n",
       "      <td>0.001953</td>\n",
       "    </tr>\n",
       "    <tr>\n",
       "      <td>9.0</td>\n",
       "      <td>0.111111</td>\n",
       "      <td>0.012346</td>\n",
       "      <td>0.001372</td>\n",
       "    </tr>\n",
       "    <tr>\n",
       "      <td>10.0</td>\n",
       "      <td>0.100000</td>\n",
       "      <td>0.010000</td>\n",
       "      <td>0.001000</td>\n",
       "    </tr>\n",
       "    <tr>\n",
       "      <td>11.0</td>\n",
       "      <td>0.090909</td>\n",
       "      <td>0.008264</td>\n",
       "      <td>0.000751</td>\n",
       "    </tr>\n",
       "    <tr>\n",
       "      <td>12.0</td>\n",
       "      <td>0.083333</td>\n",
       "      <td>0.006944</td>\n",
       "      <td>0.000579</td>\n",
       "    </tr>\n",
       "    <tr>\n",
       "      <td>13.0</td>\n",
       "      <td>0.076923</td>\n",
       "      <td>0.005917</td>\n",
       "      <td>0.000455</td>\n",
       "    </tr>\n",
       "    <tr>\n",
       "      <td>14.0</td>\n",
       "      <td>0.071429</td>\n",
       "      <td>0.005102</td>\n",
       "      <td>0.000364</td>\n",
       "    </tr>\n",
       "    <tr>\n",
       "      <td>15.0</td>\n",
       "      <td>0.066667</td>\n",
       "      <td>0.004444</td>\n",
       "      <td>0.000296</td>\n",
       "    </tr>\n",
       "    <tr>\n",
       "      <td>16.0</td>\n",
       "      <td>0.062500</td>\n",
       "      <td>0.003906</td>\n",
       "      <td>0.000244</td>\n",
       "    </tr>\n",
       "    <tr>\n",
       "      <td>17.0</td>\n",
       "      <td>0.058824</td>\n",
       "      <td>0.003460</td>\n",
       "      <td>0.000204</td>\n",
       "    </tr>\n",
       "    <tr>\n",
       "      <td>18.0</td>\n",
       "      <td>0.055556</td>\n",
       "      <td>0.003086</td>\n",
       "      <td>0.000171</td>\n",
       "    </tr>\n",
       "    <tr>\n",
       "      <td>19.0</td>\n",
       "      <td>0.052632</td>\n",
       "      <td>0.002770</td>\n",
       "      <td>0.000146</td>\n",
       "    </tr>\n",
       "    <tr>\n",
       "      <td>20.0</td>\n",
       "      <td>0.050000</td>\n",
       "      <td>0.002500</td>\n",
       "      <td>0.000125</td>\n",
       "    </tr>\n",
       "    <tr>\n",
       "      <td>21.0</td>\n",
       "      <td>0.047619</td>\n",
       "      <td>0.002268</td>\n",
       "      <td>0.000108</td>\n",
       "    </tr>\n",
       "    <tr>\n",
       "      <td>22.0</td>\n",
       "      <td>0.045455</td>\n",
       "      <td>0.002066</td>\n",
       "      <td>0.000094</td>\n",
       "    </tr>\n",
       "    <tr>\n",
       "      <td>23.0</td>\n",
       "      <td>0.043478</td>\n",
       "      <td>0.001890</td>\n",
       "      <td>0.000082</td>\n",
       "    </tr>\n",
       "    <tr>\n",
       "      <td>24.0</td>\n",
       "      <td>0.041667</td>\n",
       "      <td>0.001736</td>\n",
       "      <td>0.000072</td>\n",
       "    </tr>\n",
       "    <tr>\n",
       "      <td>25.0</td>\n",
       "      <td>0.040000</td>\n",
       "      <td>0.001600</td>\n",
       "      <td>0.000064</td>\n",
       "    </tr>\n",
       "  </tbody>\n",
       "</table>"
      ],
      "text/plain": [
       "<IPython.core.display.HTML object>"
      ]
     },
     "execution_count": 47,
     "metadata": {},
     "output_type": "execute_result"
    }
   ],
   "source": [
    "import numpy as np\n",
    "import pandas as pd\n",
    "from IPython.display import HTML\n",
    "n=np.linspace(1,25,25)\n",
    "y_1=1/n\n",
    "y_2=1/n**2\n",
    "y_3=1/n**3\n",
    "datos=pd.DataFrame()\n",
    "datos['$n$']=n\n",
    "datos['${1\\over n}$']=y_1\n",
    "datos['${1\\over n^2}$']=y_2\n",
    "datos['${1\\over n^3}$']=y_3\n",
    "HTML(datos.to_html(index=False))"
   ]
  },
  {
   "cell_type": "markdown",
   "metadata": {},
   "source": [
    "En la tabla anterior podemos ver que hacia donde tiende la función cuando $n$ tiende a crecer, es decir, a infinito, además podemos ver que función converge más rapido.\n",
    "\n",
    "También podemos analizar el limite por la izquiera y por la derecha de una función.\n",
    "\n",
    "Ejemplo. \n",
    "$$\\lim\\limits_{x\\rightarrow 5}\\quad  {x \\over x-5 }$$\n",
    "\n",
    "Primero creamos 2 vectores, uno que valla desde $-5$ hasta $4.999$ y el otro que sea de $15$ hasta $5.001$\n",
    "\n",
    "Luego esos vectores se los pasamos a nuestra función y creamos el DataFrame."
   ]
  },
  {
   "cell_type": "code",
   "execution_count": 45,
   "metadata": {},
   "outputs": [
    {
     "data": {
      "text/html": [
       "<table border=\"1\" class=\"dataframe\">\n",
       "  <thead>\n",
       "    <tr style=\"text-align: right;\">\n",
       "      <th>$x_1$</th>\n",
       "      <th>${x\\over x-5}^-$</th>\n",
       "      <th>${x_2}$</th>\n",
       "      <th>${x\\over x-5}^+$</th>\n",
       "    </tr>\n",
       "  </thead>\n",
       "  <tbody>\n",
       "    <tr>\n",
       "      <td>-5.000</td>\n",
       "      <td>0.500000</td>\n",
       "      <td>15.000</td>\n",
       "      <td>1.500000</td>\n",
       "    </tr>\n",
       "    <tr>\n",
       "      <td>-3.889</td>\n",
       "      <td>0.437507</td>\n",
       "      <td>13.889</td>\n",
       "      <td>1.562493</td>\n",
       "    </tr>\n",
       "    <tr>\n",
       "      <td>-2.778</td>\n",
       "      <td>0.357161</td>\n",
       "      <td>12.778</td>\n",
       "      <td>1.642839</td>\n",
       "    </tr>\n",
       "    <tr>\n",
       "      <td>-1.667</td>\n",
       "      <td>0.250037</td>\n",
       "      <td>11.667</td>\n",
       "      <td>1.749963</td>\n",
       "    </tr>\n",
       "    <tr>\n",
       "      <td>-0.556</td>\n",
       "      <td>0.100072</td>\n",
       "      <td>10.556</td>\n",
       "      <td>1.899928</td>\n",
       "    </tr>\n",
       "    <tr>\n",
       "      <td>0.555</td>\n",
       "      <td>-0.124859</td>\n",
       "      <td>9.445</td>\n",
       "      <td>2.124859</td>\n",
       "    </tr>\n",
       "    <tr>\n",
       "      <td>1.666</td>\n",
       "      <td>-0.499700</td>\n",
       "      <td>8.334</td>\n",
       "      <td>2.499700</td>\n",
       "    </tr>\n",
       "    <tr>\n",
       "      <td>2.777</td>\n",
       "      <td>-1.249213</td>\n",
       "      <td>7.223</td>\n",
       "      <td>3.249213</td>\n",
       "    </tr>\n",
       "    <tr>\n",
       "      <td>3.888</td>\n",
       "      <td>-3.496403</td>\n",
       "      <td>6.112</td>\n",
       "      <td>5.496403</td>\n",
       "    </tr>\n",
       "    <tr>\n",
       "      <td>4.999</td>\n",
       "      <td>-4999.000000</td>\n",
       "      <td>5.001</td>\n",
       "      <td>5001.000000</td>\n",
       "    </tr>\n",
       "  </tbody>\n",
       "</table>"
      ],
      "text/plain": [
       "<IPython.core.display.HTML object>"
      ]
     },
     "execution_count": 45,
     "metadata": {},
     "output_type": "execute_result"
    }
   ],
   "source": [
    "import numpy as np\n",
    "import pandas as pd\n",
    "from IPython.display import HTML\n",
    "x_1=np.linspace(-5,4.999,10)\n",
    "x_2=np.linspace(15,5.001,10)\n",
    "y_1=x_1/(x_1-5)\n",
    "y_2=x_2/(x_2-5)\n",
    "datlim=pd.DataFrame()\n",
    "datlim['$x_1$']=x_1\n",
    "datlim['${x\\over x-5}^-$']=y_1\n",
    "datlim['${x_2}$']=x_2\n",
    "datlim['${x\\over x-5}^+$']=y_2\n",
    "HTML(datlim.to_html(index=False))\n",
    "#datlim"
   ]
  },
  {
   "cell_type": "markdown",
   "metadata": {},
   "source": [
    "De la tabla anterior podemos ver que cuando $x_1$ tiende a $5$ por la izquierda el limite se va a $-\\infty$ y cuando $x_2$ tiende a $5$ por la derecha el limite se va a $+\\infty$. \n",
    "\n",
    "De lo anterior podemos deducir que el limite no existe.\n",
    "\n"
   ]
  },
  {
   "cell_type": "markdown",
   "metadata": {},
   "source": [
    "Las funciones anteriores son algunos ejemplos de los muchos que podriamos analizar de esta manera."
   ]
  },
  {
   "cell_type": "markdown",
   "metadata": {},
   "source": [
    "# MATPLOTLIB - Graficos\n",
    "\n",
    "En esta sección abordaremos la paqueteria de python llamada **Matplotlib** la cual se especializa en la creación de graficos en dos dimenciones.\n",
    "\n",
    "Con esta paqueteria podemos crear y personalizar todo tipo de grafico que decidamos hacer.\n",
    "\n",
    "## Mi primer gráfico\n",
    "\n",
    "Para crear un grafico nos guiaremos de la siguinte serie de pasos:\n",
    "\n",
    " - Primero importaremos el modulo **pyplot** de matplotlib.\n",
    " \n",
    " \n",
    " - Debemos definir el área que contedra a  nuestro grafico que es donde se dibujaran los ejes y los datos. Para esto usamos la función **subplots()**.\n",
    " \n",
    " \n",
    " - Plasmar nuestros datos sobre los ejes, utilizamos distintas unciones de acuerdo al tipo de grafico que deseemos.\n",
    " \n",
    " \n",
    " - Personalizamos nuestro grafico, nombre, colores, leyenda, etc.\n",
    " \n",
    " \n",
    " - Por ultimo mostramos nuestro grafico, usamos la funcion **show()**.\n",
    " \n",
    "A continuación se muestra un ejemplo."
   ]
  },
  {
   "cell_type": "code",
   "execution_count": 14,
   "metadata": {},
   "outputs": [
    {
     "data": {
      "image/png": "[encoded data removed]",
      "text/plain": [
       "<Figure size 432x288 with 1 Axes>"
      ]
     },
     "metadata": {
      "needs_background": "light"
     },
     "output_type": "display_data"
    }
   ],
   "source": [
    "# Importamos librerias necesarias\n",
    "import numpy as np\n",
    "import matplotlib.pyplot as plt\n",
    "\n",
    "# Creamos el área del gráfico\n",
    "fig, ax = plt.subplots()\n",
    "\n",
    "# Plasmamos nuestros datos\n",
    "x = np.linspace(1,10,100)\n",
    "y = np.exp(x)\n",
    "ax.plot(x,y)\n",
    "\n",
    "# Mostramos el gráfico\n",
    "plt.show()"
   ]
  },
  {
   "cell_type": "markdown",
   "metadata": {},
   "source": [
    "Ahora veremos algunos de los muchos tipos de graficos que podemos realizar con esta libreria.\n",
    "\n",
    "## Diagramas de dispersión o diagrama de puntos\n",
    "\n",
    "Para este tipo de gráficos utilizamos la función **scatter(x,y)** la cual marca los puntos con las coordenadas *(x,y)* donde *x* pertenece a la lista *X* e *y* pertence a la lista *Y*.\n",
    "\n",
    "Veamos un ejemplo."
   ]
  },
  {
   "cell_type": "code",
   "execution_count": 18,
   "metadata": {},
   "outputs": [
    {
     "data": {
      "image/png": "[encoded data removed]",
      "text/plain": [
       "<Figure size 432x288 with 1 Axes>"
      ]
     },
     "metadata": {
      "needs_background": "light"
     },
     "output_type": "display_data"
    }
   ],
   "source": [
    "import matplotlib.pyplot as plt\n",
    "\n",
    "fig, ax = plt.subplots()\n",
    "\n",
    "X = [2,5,3,10,7]\n",
    "Y = [4,6,2,5,7]\n",
    "ax.scatter(X,Y)\n",
    "\n",
    "plt.show()"
   ]
  },
  {
   "cell_type": "markdown",
   "metadata": {},
   "source": [
    "La función **scatter(x,y)** crea las parejas ordenadas con los elementos de las listas *X* y *Y* para crearlas toma elemento a elemento por lo cual ambas listas deben de coincidir en tamaño.\n",
    "\n",
    "## Diagramas de lineas\n",
    "\n",
    "Este tipo de graficos son los que más podriamos utilizar, pues son los que usan para representar funciones matematicas.\n",
    "\n",
    "Para este tipo de grafico utilazamos la función **plot(x,y)** la cual pinta una linea o poligono donde cada punto esta dado por las coordenadas de las listas *X* y *Y*. \n",
    "\n",
    "Ejemplo."
   ]
  },
  {
   "cell_type": "code",
   "execution_count": 29,
   "metadata": {
    "scrolled": true
   },
   "outputs": [
    {
     "data": {
      "image/png": "[encoded data removed]",
      "text/plain": [
       "<Figure size 432x288 with 1 Axes>"
      ]
     },
     "metadata": {
      "needs_background": "light"
     },
     "output_type": "display_data"
    }
   ],
   "source": [
    "import matplotlib.pyplot as plt\n",
    "import numpy as np\n",
    "\n",
    "fig, ax = plt.subplots()\n",
    "\n",
    "X1 = [2,2,5,5,2]\n",
    "Y1 = [1,3,3,1,1]\n",
    "ax.plot(X1, Y1)\n",
    "\n",
    "X2 = np.linspace(-2,2,100)\n",
    "Y2 = X2**2\n",
    "ax.plot(X2, Y2)\n",
    "\n",
    "plt.show()"
   ]
  },
  {
   "cell_type": "markdown",
   "metadata": {},
   "source": [
    "De los graficos anteriores podemos ver que podemos hacer poligonos o graficar alguna función o polinomio.\n",
    "Si deseamos crear un poligono las las listas deben ser del mismo tamaño pues esta función tambien toma las parejas ordenadas elemento a elemento.\n",
    "\n",
    "## Diagrama de áreas\n",
    "\n",
    "Este tipo de grafico dibuja el área que se encuentra debajo del poligono o función. Para este tipo de grafico utilizamos la función **fill_between(x,y)**. Estos graficos al igual quem los anteriores son creados por las coordenadas de las listas *X* y *Y*.\n",
    "\n",
    "Veamos un ejemplo."
   ]
  },
  {
   "cell_type": "code",
   "execution_count": 35,
   "metadata": {},
   "outputs": [
    {
     "data": {
      "image/png": "[encoded data removed]",
      "text/plain": [
       "<Figure size 432x288 with 1 Axes>"
      ]
     },
     "metadata": {
      "needs_background": "light"
     },
     "output_type": "display_data"
    }
   ],
   "source": [
    "import matplotlib.pyplot as plt\n",
    "\n",
    "fig, ax = plt.subplots()\n",
    "\n",
    "X = [2,3,5,8,9]\n",
    "Y = [1,6,3,4,5]\n",
    "ax.fill_between(X, Y)\n",
    "\n",
    "plt.show()"
   ]
  },
  {
   "cell_type": "markdown",
   "metadata": {},
   "source": [
    "En el ejemplo anterior solo se pinto el área de un poligono, se deja como actividad al lector aplicar la función para pintar el área de la función $f(x) = x^3$ para los *x* que el decida.\n",
    "\n",
    "## Diagrama de barras verticales\n",
    "\n",
    "Este tipo de graficos son los tambien llamados graficos de barras. Para este tipo de gráfico utilizamos la funcion **bar(x,y)** la cual crea un grafico de barras donde *x* es una lista donde los elementos de dicha lista son las posiciones de las barras en el eje *X* e *y* es una lista la cual los elementos son las alturas de las barras en el eje *Y*.\n",
    "\n",
    "Ejemplo."
   ]
  },
  {
   "cell_type": "code",
   "execution_count": 43,
   "metadata": {},
   "outputs": [
    {
     "data": {
      "image/png": "[encoded data removed]",
      "text/plain": [
       "<Figure size 432x288 with 1 Axes>"
      ]
     },
     "metadata": {
      "needs_background": "light"
     },
     "output_type": "display_data"
    }
   ],
   "source": [
    "import matplotlib.pyplot as plt\n",
    "\n",
    "fig, ax = plt.subplots()\n",
    "\n",
    "x = [1,2,3,4,5]\n",
    "y = [5,9,3,4,8]\n",
    "ax.bar(x,y)\n",
    "\n",
    "plt.show()"
   ]
  },
  {
   "cell_type": "markdown",
   "metadata": {},
   "source": [
    "## Diagrama de barras horizontales\n",
    "\n",
    "Este tipo de grafico es casi igual al anterior salvo la diferencia que ahora las barras, como su nombre lo dice, estan de forma horizontal. Para este tipo de grafico utilizamos la funcion **barh(x,y)**, donde *x* sigue siendo la lista de las posiciones pero ahora en el eje *Y* e *y* es la lista de las alturas de las barras pero respecto al eje *X*.\n",
    "\n",
    "Veamos un ejemplo."
   ]
  },
  {
   "cell_type": "code",
   "execution_count": 44,
   "metadata": {},
   "outputs": [
    {
     "data": {
      "image/png": "[encoded data removed]",
      "text/plain": [
       "<Figure size 432x288 with 1 Axes>"
      ]
     },
     "metadata": {
      "needs_background": "light"
     },
     "output_type": "display_data"
    }
   ],
   "source": [
    "import matplotlib.pyplot as plt\n",
    "\n",
    "fig, ax = plt.subplots()\n",
    "\n",
    "x = [1,3,5]\n",
    "y = [5,9,4]\n",
    "ax.barh(x,y)\n",
    "\n",
    "plt.show()"
   ]
  },
  {
   "cell_type": "markdown",
   "metadata": {},
   "source": [
    "## Histogramas\n",
    "\n",
    "Un histograma se suele usar para representar las frecuencias resultantes de agrupar los datos de cierta lista en las clases definidas en otra lista.\n",
    "Para este tipo de grafico usamos la función **hist(x,bins)** donde *x* es la lista de los datos y *bins* son las clases.\n",
    "\n",
    "Veamos un ejemplo."
   ]
  },
  {
   "cell_type": "code",
   "execution_count": 65,
   "metadata": {},
   "outputs": [
    {
     "data": {
      "image/png": "[encoded data removed]",
      "text/plain": [
       "<Figure size 432x288 with 1 Axes>"
      ]
     },
     "metadata": {
      "needs_background": "light"
     },
     "output_type": "display_data"
    }
   ],
   "source": [
    "import numpy as np\n",
    "import matplotlib.pyplot as plt\n",
    "\n",
    "fig, ax = plt.subplots()\n",
    "\n",
    "x = np.random.normal(2,1.5, size=1000)\n",
    "bins = 30\n",
    "ax.hist(x, bins)\n",
    "\n",
    "plt.show()"
   ]
  },
  {
   "cell_type": "markdown",
   "metadata": {},
   "source": [
    "## Diagrama de sectores o de pastel\n",
    "\n",
    "Este tipo de graficos es una circunferencia donde se divide en sectores o rebanadas dependiendo la frecuencia de los datos. Para este tipo de grafico utilamos la función **pie(x)** donde *x* es la lista de nuestros datos.\n",
    "\n",
    "Veamos un ejemplo."
   ]
  },
  {
   "cell_type": "code",
   "execution_count": 73,
   "metadata": {},
   "outputs": [
    {
     "data": {
      "image/png": "[encoded data removed]",
      "text/plain": [
       "<Figure size 432x288 with 1 Axes>"
      ]
     },
     "metadata": {},
     "output_type": "display_data"
    }
   ],
   "source": [
    "import numpy as np\n",
    "import matplotlib.pyplot as plt\n",
    "\n",
    "fig, ax = plt.subplots()\n",
    "\n",
    "x = [2,4,3,5,2,6,1]\n",
    "ax.pie(x)\n",
    "\n",
    "plt.show()"
   ]
  },
  {
   "cell_type": "markdown",
   "metadata": {},
   "source": [
    "Podemos ver que la función *pie(x)* toma a cada elemeto de la listas *x* como una clase o categoria y el valor de ese elemento es la frecuencia de dicha categoria. \n",
    "\n",
    "\n",
    "Estos y muchos mas tipos de graficos son los que podemos realizar con esta libreria, aqui solo mostramos los mas comunes, es decir los que usamos con mas frecuencia.\n",
    "\n",
    "## Modificar el grafico\n",
    "\n",
    "En este apartado veremos como moficiar algunos aspectos de nuestros graficos, esto para hacerlos mas bonitos o mas presentables y entendibles. Algunos de los aspectos que modificaremos seran, color, lineas, títulos, leyenda, etc.\n",
    "\n",
    "Como pudimos notar en los ejemplos, isn especificar algunos de los aspectos anteriores, nos dan un formato por default, asi que ahora veremos como cambiar este formato.\n",
    "\n",
    "Para poder ver el proceso desde cero crearemos un grafico al cual le aplicaremos todos los cambios."
   ]
  },
  {
   "cell_type": "code",
   "execution_count": 104,
   "metadata": {},
   "outputs": [
    {
     "data": {
      "image/png": "[encoded data removed]",
      "text/plain": [
       "<Figure size 432x288 with 1 Axes>"
      ]
     },
     "metadata": {
      "needs_background": "light"
     },
     "output_type": "display_data"
    }
   ],
   "source": [
    "import matplotlib.pyplot as plt\n",
    "import numpy as np\n",
    "\n",
    "fig, ax = plt.subplots()\n",
    "\n",
    "x = np.linspace(0,20, 1000)\n",
    "x_pun = [np.pi*2,np.pi*4.5]\n",
    "y_pun = [0,1]\n",
    "y = np.sin(x)\n",
    "ax.plot(x,y)\n",
    "ax.scatter(x_pun,y_pun)\n",
    "\n",
    "plt.show()"
   ]
  },
  {
   "cell_type": "markdown",
   "metadata": {},
   "source": [
    "El grafico anterior muestra la grafica del seno, es a este grafico al cual le aplicaremos las modificaciones una a una.\n",
    "\n",
    "### Colores\n",
    "\n",
    "Podemos cambiar el color de los objetos con el parametro **color = 'name color'** donde *name color* es el nombre del color que deseemos elegir oara nuestro grafico.\n",
    "\n",
    "Este parametro lo especificamos en la funcion que va a dibujar el grafico.\n",
    "\n",
    "Vease a continuación, le pondremos el color rojo al grafico."
   ]
  },
  {
   "cell_type": "code",
   "execution_count": 106,
   "metadata": {},
   "outputs": [
    {
     "data": {
      "image/png": "[encoded data removed]",
      "text/plain": [
       "<Figure size 432x288 with 1 Axes>"
      ]
     },
     "metadata": {
      "needs_background": "light"
     },
     "output_type": "display_data"
    }
   ],
   "source": [
    "import matplotlib.pyplot as plt\n",
    "import numpy as np\n",
    "\n",
    "fig, ax = plt.subplots()\n",
    "\n",
    "x = np.linspace(0,20, 1000)\n",
    "x_pun = [np.pi*2,np.pi*4.5]\n",
    "y_pun = [0,1]\n",
    "y1 = np.sin(x)\n",
    "ax.plot(x,y1, color = 'red')\n",
    "ax.scatter(x_pun,y_pun)\n",
    "\n",
    "plt.show()"
   ]
  },
  {
   "cell_type": "markdown",
   "metadata": {},
   "source": [
    "### Marcadores\n",
    "\n",
    "Podemos cambiar tabien la forma de los puntos o marcadores dentro de nuestro grafico, para hacer esto utilizamos el parametro **marker = 'name marker'** donde *name marker* es el nombre del marcador o en algunos caso el mismo marcador que deseemos dentro de los que se encuentran disponibles.\n",
    "\n",
    "Otra modificacion que podemos hacer a los marcadores es el tamaño, para esto utilamos el parametro **markersize = number**, *number* acepta numeros reales.\n",
    "\n",
    "Tambien podemos cambiarle el color con la sentencia que vimos en el apartado anterior."
   ]
  },
  {
   "cell_type": "code",
   "execution_count": 119,
   "metadata": {
    "scrolled": false
   },
   "outputs": [
    {
     "data": {
      "image/png": "[encoded data removed]",
      "text/plain": [
       "<Figure size 432x288 with 1 Axes>"
      ]
     },
     "metadata": {
      "needs_background": "light"
     },
     "output_type": "display_data"
    }
   ],
   "source": [
    "import matplotlib.pyplot as plt\n",
    "import numpy as np\n",
    "\n",
    "fig, ax = plt.subplots()\n",
    "\n",
    "x = np.linspace(0,20, 1000)\n",
    "x_pun = [np.pi*.5,np.pi*1.5,np.pi*2.5,np.pi*3.5,np.pi*4.5,np.pi*5.5]\n",
    "y_pun = [1,-1,1,-1,1,-1]\n",
    "y1 = np.sin(x)\n",
    "ax.plot(x,y1, color = 'red')\n",
    "ax.plot(x_pun,y_pun, marker = '*', color = 'black', markersize = 12)\n",
    "\n",
    "plt.show()"
   ]
  },
  {
   "cell_type": "markdown",
   "metadata": {},
   "source": [
    "## Lineas\n",
    "\n",
    "Dentro de nuestro grafico podemos definir el tipo de lineas que deseamos para este, por default nos manda linea seguida, pero pude ser punteada, con guiones, o incluso con algunos marcadores.\n",
    "Para esto utilzamos el parametro **linestyle = 'name style'** donde *name style* es el nombre del estilo que deseemos. \n",
    "\n",
    "Tambien con el parametro **linewidth = number** podemos definir el grosor de la linea de nuestro grafico. *number* acepta numeros reales."
   ]
  },
  {
   "cell_type": "code",
   "execution_count": 120,
   "metadata": {
    "scrolled": true
   },
   "outputs": [
    {
     "data": {
      "image/png": "[encoded data removed]",
      "text/plain": [
       "<Figure size 432x288 with 1 Axes>"
      ]
     },
     "metadata": {
      "needs_background": "light"
     },
     "output_type": "display_data"
    }
   ],
   "source": [
    "import matplotlib.pyplot as plt\n",
    "import numpy as np\n",
    "\n",
    "fig, ax = plt.subplots()\n",
    "\n",
    "x = np.linspace(0,20, 1000)\n",
    "y1 = np.sin(x)\n",
    "ax.plot(x,y1, color = 'red', linestyle = 'dashed', linewidth = 3.5)\n",
    "\n",
    "plt.show()"
   ]
  },
  {
   "cell_type": "markdown",
   "metadata": {},
   "source": [
    "### Títulos\n",
    "\n",
    "Es evidente que si necesitamos presentar un grafico es conveniente ponerle un titulo, para esto utilazamos la sentencia **ax.set_title('título', loc = 'alineación', fontdict = {fuente})**, donde *título* es el nombre del grafico, *loc* nos indica la alineacion, izquierda (left), centro (center), derecha (right) y con el parametro *fontdict* usando un diccionario se esepcifican las caracteristicas de la fuente, tamaño (*fontsize*), grosor (*fontweight*), color (*color*)."
   ]
  },
  {
   "cell_type": "code",
   "execution_count": 124,
   "metadata": {},
   "outputs": [
    {
     "data": {
      "image/png": "[encoded data removed]",
      "text/plain": [
       "<Figure size 432x288 with 1 Axes>"
      ]
     },
     "metadata": {
      "needs_background": "light"
     },
     "output_type": "display_data"
    }
   ],
   "source": [
    "import matplotlib.pyplot as plt\n",
    "import numpy as np\n",
    "\n",
    "fig, ax = plt.subplots()\n",
    "\n",
    "x = np.linspace(0,20, 1000)\n",
    "y1 = np.sin(x)\n",
    "ax.plot(x,y1, color = 'red', linestyle = 'dashed', linewidth = 3.5)\n",
    "ax.set_title('Sen(x)', loc = 'center', fontdict = {'fontsize' : 20, 'fontweight' : 16, 'color' : 'green'})\n",
    "\n",
    "plt.show()"
   ]
  },
  {
   "cell_type": "markdown",
   "metadata": {},
   "source": [
    "Tambien podemos incertar el título dentro del grafico, vease el siguiente ejemplo, donde lo unico que modificamos es la posición con el parametro **position=(a,b)**."
   ]
  },
  {
   "cell_type": "code",
   "execution_count": 138,
   "metadata": {},
   "outputs": [
    {
     "data": {
      "image/png": "[encoded data removed]",
      "text/plain": [
       "<Figure size 432x288 with 1 Axes>"
      ]
     },
     "metadata": {
      "needs_background": "light"
     },
     "output_type": "display_data"
    }
   ],
   "source": [
    "import matplotlib.pyplot as plt\n",
    "import numpy as np\n",
    "\n",
    "fig, ax = plt.subplots()\n",
    "\n",
    "x = np.linspace(0,20, 1000)\n",
    "y1 = np.sin(x)\n",
    "ax.plot(x,y1, color = 'red', linestyle = 'dashed', linewidth = 3.5)\n",
    "ax.set_title('Sen(x)', position = (0.55,0.85), fontdict = {'fontsize' : 20, 'fontweight' : 16, 'color' : 'green'})\n",
    "\n",
    "plt.show()"
   ]
  },
  {
   "cell_type": "markdown",
   "metadata": {},
   "source": [
    "### Personalización de ejes\n",
    "\n",
    "En los ejes podemos realizar muchos cambios, como los son ponerles nombre (etiquetas), poner los limites que se mostraran, poner marcas, etc., a continución se muestran las sentencias para cada una de estas acciones.\n",
    "\n",
    " - Para añadir un título utilizamos la sentencia **ax.set_xlabel(titulo)** esto le pone un titulo al eje *X*, para el eje *Y* ocupamos la misma sentecia solo que en lugar de *xlabel* usamos *ylabel*. A estos titulos se les puede dar formato utilizando los mismos parametros del titulo principal.\n",
    " \n",
    " \n",
    " - Para definir los limites utilizamos la sentencia **ax.set_xlim([limite inferior, limite superior])** con esto establecemos los limites del eje *X*, para los limites del eje *Y* usamos la misma sentencia pero con *ylim* en lugar de *xlim*.\n",
    " \n",
    " \n",
    " - Para dibujar las marcas en el eje *X* utilizamos la sentencia **ax.set_xticks(marcas)** donde *marcas* es una lista de las posiciones en las culaes queemos que alla una \"marca\", para las marcas del eje *Y* usamos la misma sentencia, nadamas que ahora usamos *yticks*.\n",
    "\n",
    "Veamos un ejemplo."
   ]
  },
  {
   "cell_type": "code",
   "execution_count": 140,
   "metadata": {},
   "outputs": [
    {
     "data": {
      "image/png": "[encoded data removed]",
      "text/plain": [
       "<Figure size 432x288 with 1 Axes>"
      ]
     },
     "metadata": {
      "needs_background": "light"
     },
     "output_type": "display_data"
    }
   ],
   "source": [
    "import matplotlib.pyplot as plt\n",
    "import numpy as np\n",
    "\n",
    "fig, ax = plt.subplots()\n",
    "\n",
    "x = np.linspace(0,20, 1000)\n",
    "y1 = np.sin(x)\n",
    "ax.plot(x,y1, color = 'red', linestyle = 'dashed', linewidth = 3.5)\n",
    "ax.set_title('Sen(x)', loc = 'center', fontdict = {'fontsize' : 20, 'fontweight' : 16, 'color' : 'green'})\n",
    "\n",
    "ax.set_xlabel(\"X\", fontdict = {'fontsize' : 20, 'fontweight' : 16, 'color' : 'blue'})\n",
    "ax.set_ylabel(\"Y\", fontdict = {'fontsize' : 20, 'fontweight' : 16, 'color' : 'blue'})\n",
    "\n",
    "ax.set_xlim([-1,21])\n",
    "ax.set_ylim([-2,2])\n",
    "\n",
    "ax.set_xticks(range(-1,21,3))\n",
    "\n",
    "plt.show()"
   ]
  },
  {
   "cell_type": "markdown",
   "metadata": {},
   "source": [
    "### Leyenda\n",
    "\n",
    "La leyenda d eun grafico nos ayuda a disntinguir las graficas de las funicones cuando se tienen mas de una.\n",
    "\n",
    "Para agregar una leyenda utilazamos la sentencia **ax.legend(leyendas,loc=position)**, la cual crea una leyenda con los nombres de las funciones indicados en la lista leyenda. Al igual que en secciones anteriores el parametro *loc* nos indica la posición, las cuales peden ser:\n",
    "\n",
    " - Arriba a la izquierda -> 'upper left'\n",
    " - Arriba al centro -> 'upper center'\n",
    " - Arriba a la derecha -> 'upper right'\n",
    " - Centro a la izquierda -> 'center left'\n",
    " - Centro -> 'center'\n",
    " - Centro a la derecha -> 'center right'\n",
    " - Abajo a la izquierda -> 'lower left'\n",
    " - Abajo al centro -> 'lower center'\n",
    " - Abajo a la derecha -> 'lower right'\n",
    "\n",
    "Podemos omitir la lista *leyeda* si indicamos el nombre en la funcion que dibuja nuestro grafico con el parametro **label = name-legend**.\n",
    "\n",
    "Al igual que si omitimos el parametro *loc* python pondra la leyenda en el lugar que considere el mas adecuado."
   ]
  },
  {
   "cell_type": "code",
   "execution_count": 142,
   "metadata": {},
   "outputs": [
    {
     "data": {
      "image/png": "[encoded data removed]",
      "text/plain": [
       "<Figure size 432x288 with 1 Axes>"
      ]
     },
     "metadata": {
      "needs_background": "light"
     },
     "output_type": "display_data"
    }
   ],
   "source": [
    "import matplotlib.pyplot as plt\n",
    "import numpy as np\n",
    "\n",
    "fig, ax = plt.subplots()\n",
    "\n",
    "x = np.linspace(0,20, 1000)\n",
    "y1 = np.sin(x)\n",
    "ax.plot(x,y1, color = 'red', linestyle = 'dashed', linewidth = 3.5, label = \"Sen(x)\")\n",
    "ax.set_title('Sen(x)', loc = 'center', fontdict = {'fontsize' : 20, 'fontweight' : 16, 'color' : 'green'})\n",
    "ax.legend()\n",
    "plt.show()"
   ]
  },
  {
   "cell_type": "markdown",
   "metadata": {},
   "source": [
    "### Rejilla - Cuadricula\n",
    "\n",
    "Para poner una rejilla o cuadricula utilizamos la sentencia **ax.grid(axis = ejes, color = 'name-color', linestyle = 'name-style'** donde le parametro *axis* nos inidca los ejes sobre los cuales dibujaremos la rejilla, puede ser **'x'** para el eje *X*, **'y'** para el eje *Y* o **'both'** para que se dibuje sobre ambos ejes. Los otros dos parametros indican el color y el estilo de la rejilla, estos pueden tomar los mismo valores o nombres que se vieron anteriormente en las secciones de color y lineas.\n",
    "\n",
    "Si dejamos vacios los parametros de la funcion **grid()**, esta colocara una rejilla por default sobre los dos ejes."
   ]
  },
  {
   "cell_type": "code",
   "execution_count": 147,
   "metadata": {},
   "outputs": [
    {
     "data": {
      "image/png": "[encoded data removed]",
      "text/plain": [
       "<Figure size 432x288 with 1 Axes>"
      ]
     },
     "metadata": {
      "needs_background": "light"
     },
     "output_type": "display_data"
    }
   ],
   "source": [
    "import matplotlib.pyplot as plt\n",
    "import numpy as np\n",
    "\n",
    "fig, ax = plt.subplots()\n",
    "\n",
    "x = np.linspace(0,20, 1000)\n",
    "y1 = np.sin(x)\n",
    "ax.plot(x,y1, color = 'red', linestyle = 'dashed', linewidth = 3.5)\n",
    "ax.set_title('Sen(x)', loc = 'center', fontdict = {'fontsize' : 20, 'fontweight' : 16, 'color' : 'green'})\n",
    "ax.grid('both', color = 'cyan', linestyle = 'dashed')\n",
    "plt.show()"
   ]
  },
  {
   "cell_type": "markdown",
   "metadata": {},
   "source": [
    "### Multiples graficos\n",
    "\n",
    "Podemos dibujar multiples graficos en una misma figura, estos se organizan en forma de \"tabla\". Para esto tenemos que agregarle a la funcion *subplots* el numero de filas y columnas de  nuestra \"tabla\", que es la que contendra los graficos.\n",
    "\n",
    "Para acceder a cada uno de los graficos los hacemos mediante subindices y cada grafico se puede personalizar como lo hemos visto antes.\n",
    "\n",
    "Ademas en la funcion *subplots* podemos definir el tamaño de los graficos con el parametro **figsize = (num1,num2)**, donde *num1* y *num2* son las medidas de los graficos.\n",
    "\n",
    "Veamos un ejemplo."
   ]
  },
  {
   "cell_type": "code",
   "execution_count": 160,
   "metadata": {},
   "outputs": [
    {
     "data": {
      "image/png": "[encoded data removed]",
      "text/plain": [
       "<Figure size 720x720 with 4 Axes>"
      ]
     },
     "metadata": {
      "needs_background": "light"
     },
     "output_type": "display_data"
    }
   ],
   "source": [
    "import matplotlib.pyplot as plt\n",
    "import numpy as np\n",
    "\n",
    "fig, ax = plt.subplots(2,2, figsize=(10,10))\n",
    "x = np.linspace(0,20, 1000)\n",
    "y1 = np.sin(x)\n",
    "y2 = np.cos(x)\n",
    "y3 = np.exp(x)\n",
    "y4 = np.linspace(-10,10,1000)\n",
    "\n",
    "ax[0,0].plot(x,y1, c = 'g')\n",
    "ax[0,0].set_title(\"Sen (x)\", c = 'r')\n",
    "ax[0,1].plot(x,y2, c = 'b')\n",
    "ax[0,1].set_title(\"Cos (x)\", c = 'r')\n",
    "ax[1,0].plot(x,y3, c = 'r')\n",
    "ax[1,0].set_title(\"$e^x$\", c = 'r')\n",
    "ax[1,1].plot(x,y4, c = 'y')\n",
    "ax[1,1].set_title(\"Lineal\", c = 'r')\n",
    "\n",
    "plt.show()"
   ]
  }
 ],
 "metadata": {
  "kernelspec": {
   "display_name": "Python 3",
   "language": "python",
   "name": "python3"
  },
  "language_info": {
   "codemirror_mode": {
    "name": "ipython",
    "version": 3
   },
   "file_extension": ".py",
   "mimetype": "text/x-python",
   "name": "python",
   "nbconvert_exporter": "python",
   "pygments_lexer": "ipython3",
   "version": "3.7.6"
  }
 },
 "nbformat": 4,
 "nbformat_minor": 4
}
