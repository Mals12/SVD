{
 "cells": [
  {
   "cell_type": "code",
   "execution_count": null,
   "metadata": {},
   "outputs": [],
   "source": [
    "import numpy as np\n",
    "from scipy.linalg import svd\n",
    "\n",
    "filas = int(input(\"Ingresa el numero de filas: \"))\n",
    "columnas = int(input(\"Ingresa el numero de colmumnas: \"))\n",
    "\n",
    "def SVD(filas,columnas):\n",
    "    A = np.empty((filas,columnas))\n",
    "    for i in range(filas):\n",
    "        fila = []\n",
    "        for j in range(columnas):\n",
    "            elemento = float(input(\"fila {}, columna {}:\".format(i+1,j+1)))\n",
    "            fila.append(elemento)\n",
    "        A[i,:]=fila\n",
    "    U, S, V = svd(A)  \n",
    "    print('\\n' \"A = \"'\\n', A)\n",
    "    print('\\n',\"La SVD de la matriz A es: \")\n",
    "    print('\\n' \"U = \"'\\n',U)\n",
    "    print('\\n' \"S = \"'\\n', S)\n",
    "    print('\\n' \"V = \"'\\n', V)\n",
    "\n",
    "X= SVD(filas,columnas)"
   ]
  }
 ],
 "metadata": {
  "kernelspec": {
   "display_name": "Python 3",
   "language": "python",
   "name": "python3"
  },
  "language_info": {
   "codemirror_mode": {
    "name": "ipython",
    "version": 3
   },
   "file_extension": ".py",
   "mimetype": "text/x-python",
   "name": "python",
   "nbconvert_exporter": "python",
   "pygments_lexer": "ipython3",
   "version": "3.7.6"
  }
 },
 "nbformat": 4,
 "nbformat_minor": 4
}
