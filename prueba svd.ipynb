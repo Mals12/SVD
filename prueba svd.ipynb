{
 "cells": [
  {
   "cell_type": "code",
   "execution_count": 2,
   "metadata": {},
   "outputs": [],
   "source": [
    "import numpy as np\n",
    "from scipy.linalg import svd"
   ]
  },
  {
   "cell_type": "code",
   "execution_count": 3,
   "metadata": {},
   "outputs": [],
   "source": [
    "A=np.array([[1,1,1],[1,1,1]])\n",
    "AT=np.transpose(A)\n",
    "ATA=np.dot(AT,A)"
   ]
  },
  {
   "cell_type": "code",
   "execution_count": 4,
   "metadata": {},
   "outputs": [
    {
     "name": "stdout",
     "output_type": "stream",
     "text": [
      "[[1 1 1]\n",
      " [1 1 1]]\n"
     ]
    }
   ],
   "source": [
    "print(A)"
   ]
  },
  {
   "cell_type": "code",
   "execution_count": 38,
   "metadata": {},
   "outputs": [
    {
     "name": "stdout",
     "output_type": "stream",
     "text": [
      "Autovalores: [-4.4408921e-16  6.0000000e+00  0.0000000e+00]\n",
      "Vector de características: [[-0.81649658  0.57735027  0.        ]\n",
      " [ 0.40824829  0.57735027 -0.70710678]\n",
      " [ 0.40824829  0.57735027  0.70710678]]\n"
     ]
    }
   ],
   "source": [
    "val_p, vec_p = np.linalg.eig(ATA)\n",
    "V=vec_p\n",
    "VT=np.transpose(V)\n",
    "S_1=np.sqrt(val_p[2])\n",
    "#S_1\n",
    "print(\"Autovalores:\", val_p)\n",
    "print(\"Vector de características:\", vec_p)"
   ]
  },
  {
   "cell_type": "code",
   "execution_count": 25,
   "metadata": {},
   "outputs": [
    {
     "name": "stdout",
     "output_type": "stream",
     "text": [
      "[[-0.70710678 -0.70710678]\n",
      " [-0.70710678  0.70710678]]\n",
      "[2.44948974e+00 1.11022302e-16]\n",
      "[[-0.57735027 -0.57735027 -0.57735027]\n",
      " [-0.81649658  0.40824829  0.40824829]\n",
      " [ 0.         -0.70710678  0.70710678]]\n"
     ]
    }
   ],
   "source": [
    "U, S, VT=svd(A)\n",
    "print(U)\n",
    "print(S)\n",
    "print(VT)"
   ]
  },
  {
   "cell_type": "code",
   "execution_count": null,
   "metadata": {},
   "outputs": [],
   "source": []
  }
 ],
 "metadata": {
  "kernelspec": {
   "display_name": "Python 3",
   "language": "python",
   "name": "python3"
  },
  "language_info": {
   "codemirror_mode": {
    "name": "ipython",
    "version": 3
   },
   "file_extension": ".py",
   "mimetype": "text/x-python",
   "name": "python",
   "nbconvert_exporter": "python",
   "pygments_lexer": "ipython3",
   "version": "3.7.6"
  }
 },
 "nbformat": 4,
 "nbformat_minor": 4
}
